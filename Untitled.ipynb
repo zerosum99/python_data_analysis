{
 "cells": [
  {
   "cell_type": "code",
   "execution_count": 5,
   "metadata": {},
   "outputs": [
    {
     "name": "stdout",
     "output_type": "stream",
     "text": [
      " 함수 클래스의 객체 입니다. \n",
      " 함수 \n",
      " 람다 표현식 \n",
      " 람다\n"
     ]
    }
   ],
   "source": [
    "import types \n",
    "\n",
    "def func() :\n",
    "    print(\" 함수 \")\n",
    "    \n",
    "if type(func) == types.FunctionType :\n",
    "    print(\" 함수 클래스의 객체 입니다. \")\n",
    "    func()\n",
    "    \n",
    "if type(lambda : print(\"람다\")) == types.LambdaType :\n",
    "     print(\" 람다 표현식 \")\n",
    "     (lambda : print(\" 람다\"))()"
   ]
  },
  {
   "cell_type": "code",
   "execution_count": null,
   "metadata": {},
   "outputs": [],
   "source": []
  }
 ],
 "metadata": {
  "kernelspec": {
   "display_name": "Python 3",
   "language": "python",
   "name": "python3"
  },
  "language_info": {
   "codemirror_mode": {
    "name": "ipython",
    "version": 3
   },
   "file_extension": ".py",
   "mimetype": "text/x-python",
   "name": "python",
   "nbconvert_exporter": "python",
   "pygments_lexer": "ipython3",
   "version": "3.7.7"
  }
 },
 "nbformat": 4,
 "nbformat_minor": 4
}
