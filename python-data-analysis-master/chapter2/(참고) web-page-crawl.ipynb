{
 "cells": [
  {
   "cell_type": "markdown",
   "metadata": {},
   "source": [
    "Copyright (c) 2019 [윤기태]\n",
    "\n",
    "https://github.com/yoonkt200/python-data-analysis\n",
    "\n",
    "[MIT License](https://github.com/yoonkt200/python-data-analysis/blob/master/LICENSE.txt)"
   ]
  },
  {
   "cell_type": "markdown",
   "metadata": {},
   "source": [
    "# (가제) 파이썬 데이터 분석"
   ]
  },
  {
   "cell_type": "markdown",
   "metadata": {},
   "source": [
    "-----"
   ]
  },
  {
   "cell_type": "markdown",
   "metadata": {},
   "source": [
    "# 웹 페이지 크롤링"
   ]
  },
  {
   "cell_type": "markdown",
   "metadata": {},
   "source": [
    "### 1. 대상 페이지의 구조 살펴보기"
   ]
  },
  {
   "cell_type": "markdown",
   "metadata": {},
   "source": [
    "- Internet Explorer, Chrome 등의 웹 브라우저로 크롤링의 대상이 될 페이지 구조 살펴보기\n",
    "    - 웹 브라우저의 개발자 도구 실행 (Chrome 기준 설명)\n",
    "        - `Chrome 맞춤설정 및 제어 탭 - 도구 더보기 - 개발자 도구` 클릭\n",
    "        - 혹은 `Command + Alt + I (Mac), Ctrl + Shift + I (윈도우)`"
   ]
  },
  {
   "cell_type": "markdown",
   "metadata": {},
   "source": [
    "![앱 생성 페이지](img/crawl_1.png)"
   ]
  },
  {
   "cell_type": "markdown",
   "metadata": {},
   "source": [
    "-----"
   ]
  },
  {
   "cell_type": "markdown",
   "metadata": {},
   "source": [
    "### 2. 페이지들의 URL 정보 추출"
   ]
  },
  {
   "cell_type": "markdown",
   "metadata": {},
   "source": [
    "- 개발자 도구를 통해, 텍스트 데이터를 가져올 페이지들의 URL 리스트 추출\n",
    "    - HTML 구조에서 링크 정보 (**a 태그**) 추출\n",
    "        - 개발자도구 좌측 상단의 `마우스 모양` 버튼 클릭\n",
    "        - HTML 구조를 보고싶은 영역으로 마우스 커서 이동"
   ]
  },
  {
   "cell_type": "markdown",
   "metadata": {},
   "source": [
    "![앱 생성 페이지](img/crawl_2.png)"
   ]
  },
  {
   "cell_type": "markdown",
   "metadata": {},
   "source": [
    "-----"
   ]
  },
  {
   "cell_type": "markdown",
   "metadata": {},
   "source": [
    "- 아래 코드 실행을 위해, anaconda prompt 혹은 Terminal에서 아래와 같은 패키지들을 설치해 줍니다.\n",
    "    - (env_name) `pip install requests beautifulsoup4 lxml`\n",
    "- 혹은 아래의 코드로 라이브러리를 설치합니다."
   ]
  },
  {
   "cell_type": "code",
   "execution_count": 1,
   "metadata": {},
   "outputs": [
    {
     "name": "stdout",
     "output_type": "stream",
     "text": [
      "Collecting requests\n",
      "  Downloading https://files.pythonhosted.org/packages/51/bd/23c926cd341ea6b7dd0b2a00aba99ae0f828be89d72b2190f27c11d4b7fb/requests-2.22.0-py2.py3-none-any.whl (57kB)\n",
      "Collecting beautifulsoup4\n",
      "  Downloading https://files.pythonhosted.org/packages/1d/5d/3260694a59df0ec52f8b4883f5d23b130bc237602a1411fa670eae12351e/beautifulsoup4-4.7.1-py3-none-any.whl (94kB)\n",
      "Collecting chardet<3.1.0,>=3.0.2 (from requests)\n",
      "  Downloading https://files.pythonhosted.org/packages/bc/a9/01ffebfb562e4274b6487b4bb1ddec7ca55ec7510b22e4c51f14098443b8/chardet-3.0.4-py2.py3-none-any.whl (133kB)\n",
      "Collecting urllib3!=1.25.0,!=1.25.1,<1.26,>=1.21.1 (from requests)\n",
      "  Downloading https://files.pythonhosted.org/packages/e6/60/247f23a7121ae632d62811ba7f273d0e58972d75e58a94d329d51550a47d/urllib3-1.25.3-py2.py3-none-any.whl (150kB)\n",
      "Requirement already satisfied: certifi>=2017.4.17 in c:\\users\\윤기태\\.conda\\envs\\pybook\\lib\\site-packages (from requests) (2019.3.9)\n",
      "Collecting idna<2.9,>=2.5 (from requests)\n",
      "  Downloading https://files.pythonhosted.org/packages/14/2c/cd551d81dbe15200be1cf41cd03869a46fe7226e7450af7a6545bfc474c9/idna-2.8-py2.py3-none-any.whl (58kB)\n",
      "Collecting soupsieve>=1.2 (from beautifulsoup4)\n",
      "  Downloading https://files.pythonhosted.org/packages/b9/a5/7ea40d0f8676bde6e464a6435a48bc5db09b1a8f4f06d41dd997b8f3c616/soupsieve-1.9.1-py2.py3-none-any.whl\n",
      "Installing collected packages: chardet, urllib3, idna, requests, soupsieve, beautifulsoup4\n",
      "Successfully installed beautifulsoup4-4.7.1 chardet-3.0.4 idna-2.8 requests-2.22.0 soupsieve-1.9.1 urllib3-1.25.3\n"
     ]
    }
   ],
   "source": [
    "!pip install requests beautifulsoup4 lxml"
   ]
  },
  {
   "cell_type": "markdown",
   "metadata": {},
   "source": [
    "-----"
   ]
  },
  {
   "cell_type": "code",
   "execution_count": 6,
   "metadata": {},
   "outputs": [
    {
     "name": "stdout",
     "output_type": "stream",
     "text": [
      "https://namu.wiki/w/%EC%97%AC%EC%A7%84(%EC%9D%B4%EB%8B%AC%EC%9D%98%20%EC%86%8C%EB%85%80)\n",
      "https://namu.wiki/w/%EB%8F%99%ED%88%AC%EB%A5%B4%ED%82%A4%EC%8A%A4%ED%83%84%20%EC%A0%9C1%EA%B3%B5%ED%99%94%EA%B5%AD\n",
      "https://namu.wiki/w/%EB%B8%8C%EB%B2%A0(%EC%9C%A0%ED%8A%9C%EB%B2%84)/%EB%85%BC%EB%9E%80%20%EB%B0%8F%20%EC%82%AC%EA%B1%B4%EC%82%AC%EA%B3%A0/2020%EB%85%84\n",
      "https://namu.wiki/w/%E3%82%A2%E3%82%B5%E3%82%AC%E3%82%AA\n",
      "https://namu.wiki/w/%EB%A0%88%EB%B0%94\n"
     ]
    }
   ],
   "source": [
    "import requests\n",
    "from bs4 import BeautifulSoup\n",
    "import re\n",
    "\n",
    "# 크롤링할 사이트 주소를 정의합니다.\n",
    "source_url = \"https://namu.wiki/RecentChanges\"\n",
    "\n",
    "# 사이트의 html 구조에 기반하여 크롤링을 수행합니다.\n",
    "req = requests.get(source_url)\n",
    "html = req.content\n",
    "soup = BeautifulSoup(html, 'lxml')\n",
    "contents_table = soup.find(name=\"table\")\n",
    "table_body = contents_table.find(name=\"tbody\")\n",
    "table_rows = table_body.find_all(name=\"tr\")\n",
    "\n",
    "# a태그의 href 속성을 리스트로 추출하여, 크롤링 할 페이지 리스트를 생성합니다.\n",
    "page_url_base = \"https://namu.wiki\"\n",
    "page_urls = []\n",
    "for index in range(0, len(table_rows)):\n",
    "    first_td = table_rows[index].find_all('td')[0]\n",
    "    td_url = first_td.find_all('a')\n",
    "    if len(td_url) > 0:\n",
    "        page_url = page_url_base + td_url[0].get('href')\n",
    "        if 'png' not in page_url:\n",
    "            page_urls.append(page_url)\n",
    "\n",
    "# 중복 url을 제거합니다.\n",
    "page_urls = list(set(page_urls))\n",
    "for page in page_urls[:5]:\n",
    "    print(page)"
   ]
  },
  {
   "cell_type": "markdown",
   "metadata": {},
   "source": [
    "- 위의 코드를 통해 https://namu.wiki/RecentChanges 페이지의 최근 변경 문서 링크들을 추출."
   ]
  },
  {
   "cell_type": "markdown",
   "metadata": {},
   "source": [
    "-----"
   ]
  },
  {
   "cell_type": "markdown",
   "metadata": {},
   "source": [
    "### 3. 각종 텍스트 정보 추출"
   ]
  },
  {
   "cell_type": "markdown",
   "metadata": {},
   "source": [
    "- 동일한 방법으로, 개발자 도구를 이용하여 최근 변경된 나무위키 페이지의 텍스트 정보 추출\n",
    "    - `문서 제목`\n",
    "    - `문서 카테고리`\n",
    "    - `문서 내용`"
   ]
  },
  {
   "cell_type": "markdown",
   "metadata": {},
   "source": [
    "![앱 생성 페이지](img/crawl_3.png)"
   ]
  },
  {
   "cell_type": "markdown",
   "metadata": {},
   "source": [
    "![앱 생성 페이지](img/crawl_4.png)"
   ]
  },
  {
   "cell_type": "markdown",
   "metadata": {},
   "source": [
    "![앱 생성 페이지](img/crawl_5.png)"
   ]
  },
  {
   "cell_type": "markdown",
   "metadata": {},
   "source": [
    "- `2. 페이지들의 URL 정보 추출` 에서 추출했던 URL 페이지 정보를 기반으로 크롤링 실행."
   ]
  },
  {
   "cell_type": "code",
   "execution_count": 27,
   "metadata": {},
   "outputs": [
    {
     "name": "stdout",
     "output_type": "stream",
     "text": [
      "여진(이달의 소녀) \n",
      "\n",
      "\n",
      "이달의 소녀2002년 출생2017년 데뷔도봉구 출신 인물아이돌 막내대한민국의 개신교 신자\n",
      "\n",
      "\n",
      "희진현진하슬여진비비김립진솔최리이브츄고원올리비아 혜 유닛1/3멤버 희진현진하슬비비음반  Love&Live미니 1집 17.03.13 Love&Evil미니 1집 리패키지 17.04.27 ODD EYE CIRCLE멤버 김립진솔최리음반  Mix&Match미니 1집 17.09.21 Max&Match미니 1집 리패키지 17.10.31 yyxy멤버 이브츄고원올리비아 혜음반 ]] beauty&thebeat미니 1집 18.05.30  [음반] [ +  + ]미니 1집 18.08.20 [ X X ]미니 1집 리패키지 19.02.19 [ # ]미니 2집 20.02.05 [프로젝트 음반]프로젝트 싱글 HeeJin싱글 1집 16.10.05 HyunJin싱글 2집 16.11.17 HaSeul싱글 3집 16.12.15 YeoJin싱글 4집 17.01.16 ViVi싱글 5집 17.04.17 Kim Lip싱글 6집 17.05.23 JinSoul싱글 7집 17.06.26 Choerry싱글 8집 17.07.28 Yves싱글 9집 17.11.28 Chuu싱글 10집 17.12.28 Go Won싱글 11집 18.01.30 Olivia Hye싱글 12집 18.03.30스페셜 싱글 The Carol 2.0(ViVi, 최리, 이브)스페셜 싱글 17.12.13 [공연] 이달의 소녀 X 심화학습반영상회 18.02.03 CINEMA THEORY : Up & Line영상회 18.03.17 PREMIER GREETING : Line & Up팬미팅 18.06.02~03 CINEMA THEORY : Up & Line in BUSAN영상회 18.07.07  LOONAbirth데뷔 콘서트 18.08.19 LOONA STUDIO보라콘 18.11.23~25 LOONAVERSE콘서트 19.02.16~17 PREMIER GREETING : Meet & Up팬미팅 19.12.14  [관련 문서]활동 공연  음반 영상V LIVE광고 및 CF응원법굿즈세계관사건 및 사고노래방 수록 목록1/3멤버 희진현진하슬비비음반  Love&Live미니 1집 17.03.13 Love&Evil미니 1집 리패키지 17.04.27 멤버 희진현진하슬비비음반  Love&Live미니 1집 17.03.13 Love&Evil미니 1집 리패키지 17.04.27ODD EYE CIRCLE멤버 김립진솔최리음반  Mix&Match미니 1집 17.09.21 Max&Match미니 1집 리패키지 17.10.31 멤버 김립진솔최리음반  Mix&Match미니 1집 17.09.21 Max&Match미니 1집 리패키지 17.10.31yyxy멤버 이브츄고원올리비아 혜음반 ]] beauty&thebeat미니 1집 18.05.30 멤버 이브츄고원올리비아 혜음반 ]] beauty&thebeat미니 1집 18.05.30 [ +  + ]미니 1집 18.08.20 [ X X ]미니 1집 리패키지 19.02.19 [ # ]미니 2집 20.02.05프로젝트 싱글 HeeJin싱글 1집 16.10.05 HyunJin싱글 2집 16.11.17 HaSeul싱글 3집 16.12.15 YeoJin싱글 4집 17.01.16 ViVi싱글 5집 17.04.17 Kim Lip싱글 6집 17.05.23 JinSoul싱글 7집 17.06.26 Choerry싱글 8집 17.07.28 Yves싱글 9집 17.11.28 Chuu싱글 10집 17.12.28 Go Won싱글 11집 18.01.30 Olivia Hye싱글 12집 18.03.30스페셜 싱글 The Carol 2.0(ViVi, 최리, 이브)스페셜 싱글 17.12.13 이달의 소녀 X 심화학습반영상회 18.02.03 CINEMA THEORY : Up & Line영상회 18.03.17 PREMIER GREETING : Line & Up팬미팅 18.06.02~03 CINEMA THEORY : Up & Line in BUSAN영상회 18.07.07  LOONAbirth데뷔 콘서트 18.08.19 LOONA STUDIO보라콘 18.11.23~25 LOONAVERSE콘서트 19.02.16~17 PREMIER GREETING : Meet & Up팬미팅 19.12.14 활동 공연  음반 영상V LIVE광고 및 CF응원법굿즈세계관사건 및 사고노래방 수록 목록 여진YeoJin 이름 임여진 (林汝眞)[1] 출생 2002년 11월 11일 (17세) 서울특별시 도봉구국적  대한민국 신체 156cm[2], 42kg, O형[3] 가족 부모님[4] 공개 2017년 1월 4일 데뷔 2017년 1월 16일 프로젝트 싱글 <YeoJin> 소속사  소속그룹 이달의 소녀[5] 학력 서울창경초등학교 → 대구용계초등학교덕화중학교 → 한성여자중학교정화여자상업고등학교 사회복지사무관리학과 → 서울공연예술고등학교[6] 실용무용과 (재학) 종교 개신교(장로회)[출처 필요] 상징물 개구리, 주황색 별명 콩, 렌틸콩,[7] 똥글이[8], 아로미, 진작대기[9], 여진바부[10], 풍진이[11], 스피드풍[12], 키짝소[13], 작고맵[14], 깃털걸, 진아서명  1. 개요2. 데뷔 전3. 포지션3.1. 보컬3.2. 댄스4. 캐릭터4.1. 성격4.2. 취향4.3. 특기4.4. 비주얼5. 발매 음반6. 여담7. 역대 프로필 사진YeoJin[Teaser] 이달의 소녀 #4 키스는 다음에2017년 1월 4일에 공개된 이달의 소녀의 네 번째 멤버이다. 데뷔 당시에 중학생이었기에 유닛 활동에 참여하지 못했다. 날짜   활동   참고자료   비고  2017년05.15 넥스트무브 '창조의 법칙' CF 특수던전 편#1 #2이달의 소녀06.30~07.23 웹드라마 <우리 처음 만났을 때 기억나?> 시즌 1 출연#'여진' 역08.23~09.13 웹드라마 <우리 처음 만났을 때 기억나?> 시즌 2 출연#'여진' 역2018년03.14 웹드라마 <우리 처음 만났을 때 기억나?> 시즌 3 출연#까메오 출연전체적으로 목소리가 약간 하이톤인 이달소 멤버들 중 그나마 허스키한 목소리 톤 때문인지 보컬파트 뿐만 아니라 랩 파트도 자주 받는다.[#]에서는 기존 앨범에 있던 수록곡들보다 랩 파트를 더 많이 맡았다.목소리가 귀엽고 살짝 간드러진다. 깜찍한 목소리는 <키스는 다음에>에서 보여 주었는데, favOriTe에서 보여준 본인 파트인 결국 내꺼라는 걸 알지에서 처음 접하는 대중은 깜짝 놀랄만큼 간드러지는 목소리를 보여주었다. 전체적인 실력도 나쁘지 않다.다만 체구 자체가 작아서 성량이 작은 것인지 고음에는 적합하지 않은 보컬리스트인 것으로 보인다. 그래도 음역대는 넓은 편으로 참여한 곡이 적은 것을 생각해보면 실력이 안정적임을 알 수 있다.목소리가 귀엽고 독특해 포인트를 주기 쉽기 때문에 완전체에서 포인트 파트를 맡는다. \"Hi High\"에서 맡은 '쉽지는 않을걸, 비밀이 좀 많아' 같은 파트가 대표적. 하이톤도, 저음도 아니지만 그 독특함이 이달의 소녀의 곡과 잘 맞는다.춤을 잘 외우고 순발력이 좋다. 이달의 소녀 노래 외에도 LOONA STUDIO와 셀럽티비 열맞춰 랜덤댄스에서 보여준 커버댄스로 센스를 확인할 수 있다. 비글미가 가득하고 털털하다. 막내이다보니 언니들에게 애교를 부리기도 하지만 자신이 하는 일에는 꽤나 진지한 모습을 보이기도 한다. 날씨에 따라 언니들을 챙긴다고 한다.같은 노이즈 멤버인 최리와 츄처럼 굉장히 밝고 명랑하다. 멤버들의 증언에 따르면 한시도 가만히 있지 않는다고 여진이의 지치지 않는 에너지가 부럽다고 하기도 했다.  지치지 않는 수다력으로 본인은 최선을 다해 분위기를 띄우려하나 주변에서 여진이의 텐션을 따라가기 버거워 하거나 다소 썰렁해 하기도 한다. 그럼에도 막내라 멤버들이 '오구오구' 하는 듯하다.MBTI 유형은 ENFP(스파크형, 재기발랄한 활동가형)가 나왔다고 한다.가장 좋아하는 공차 메뉴는 밀크쿠앤크스무디에 펄 추가한 것이다.자기 상징동물인 개구리를 싫어하지만 개구리 눈 모양 머리띠는 자주 쓴다. 이후 미니 앨범 2집 [#]의 팬사인회에서 예전에는 개구리가 싫었는데, 나이가 들어서인지 요즘에는 좋아졌다고 언급한 것으로 보아 이제는 크게 싫어하지 않는 것으로 보인다.요리를 잘한다. 어려운 거 아니면 거의 할 수 있다면서, 엄마 생신에 미역국을 끓여드렸다는 얘기도 했다.최근 이달탐에서 진행을 하는 모습이 자주자주 보인다. 이달탐 프리미어 팬미팅 편에서는 공연 시작 전 격려의 말을 진행하기도 하면서 하슬과 더불어 새롭게 진행퀸으로 떠오르게 되었다. 사실 단독으로 진행하는건 이게 처음이 아닌 이달탐 #200 200화 특집으로 단독으로 멤버들이 뽑은 이달탐 베스트 에피소드와 셀렉을 아주 깔끔하게 소개했었다.귀엽게 생겼으며 하슬과 이목구비, 분위기, 동글동글한 특징까지 닮아서 같이 있으면 콩이랑 렌틸콩같다. 하슬과 함께 안경 착용자로 안경 쓰고 나란히 서면 거의 친자매급이다. 이걸 노렸는지 홍보 웹 드라마 '우리 처음 만났을때 기억나'에서도 하슬의 친동생으로 출연하기도 했다.또래 아이들처럼 앳된 얼굴에 젖살이 아직 빠지지 않아서 스타일링에 변화를 주면 얼굴이 확 변하고, 최근에는 젖살이 많이 빠졌다.여진 참여 음반싱글YeoJin전곡여진(2017. 01. 15.) EP[+ +]전곡이달의 소녀(2018. 08. 20.) 리패키지[X X]전곡이달의 소녀(2019. 02. 19.) EP[#]전곡이달의 소녀(2020. 02. 05.) 당시 나이가 어려서 유닛 활동에는 참여하지 못했다. 같은 나이인 NCT의 지성이 10시 이후 방송 출연을 제외하면 문제없이 활동을 했고 지금, 좋아해 음원도 녹음한 상태에서 급하게 빠진 것을 보면 조금 의문이 든다.[15]롤모델은 신화라고 한다. 본인이 태어나기 전부터 지금까지 신화가 활동하는 것처럼, 본인도 긴 시간 멤버들과 함께 하고 싶어서 정했다고 하며, 어머니가 신화창조라고 한다.연습생 기간은 약 4개월 정도다. 하슬, 최리와 같은 오디션을 본 동기이지만 하슬보다 일주일 먼저 입사했다고 한다.현재 소속사의 오디션을 볼 때 옆 참가자로 하슬이 있었는데 하슬을 쳐다보다가 눈이 마주쳤다는데 원래 눈을 잘 못 피하는 성격이라 계속 쳐다보고 있다가 결국 여진이 먼저 눈을 피했다고 한다. 그때 하슬은 여진이의 눈꼬리가 살짝 올라가 있어서(?) 째려보는 줄 알았다고 한다. 하지만 지금은 하슬과 특히 친하고 의지하는 모습을 보인다.최리에게 장난을 자주 친다고 한다. 듀엣을 하고 싶은 멤버로 꼽기도 했다.이달의 소녀에서 1등이다 하는 것은 애교라고 한다.본인이 해보고 싶은 컨셉은 '알 수 없는 비밀' 'Sweet Crazy Love' 그리고 섹시라고 하며 가장 부러운 것도 김립의 섹시함이라고 한다.마리모와 달팽이를 키우고 있다. 마리모는 중학교 졸업식 날 친구에게 선물 받은 것이고, 달팽이는 고등학교 입학하는 날 길을 잃은 여진이 휴대폰을 빌리기 위해 들어간 수족관에서 받았다. 수족관에서 너무 긴장한 나머지 휴대폰을 빌려달라고 해야 했는데 이 달팽이가 뭐냐고 물었다고 한다. 그래서 달팽이 이름이 길치... 약 일 년 뒤 이 달팽이의 근황을 묻는 질문에 무지개 다리를 건넜다고 답하며 글썽였다.다이어리는 새벽에 쓴다.돈을 허투루 쓰는 버릇을 고치겠다며 2018년 초엔 용돈기입장을 쓰기도 했다. (아직까지 쓰는지.. 버릇은 많이 고쳐졌는지..)Hi High에서 스타일링이 머리 위에 네 개의 똥머리를 한 것이라 만두 네 개라고 불렀다. 이달탐 400화에서는 400화니까 만두 네 개를 달았다, 500화 때는 다섯 개를 달고 오겠다는 농담을 했었다.오드아이써클 V LIVE에 의하면 숙소가 근처에 있긴 하지만 1/3이 아닌 오드아이써클과 함께 살았었다. 현재는 모든 멤버가 같은 숙소에 산다.물건을 잘 잃어버리며, 최근에는 교통카드를 잃어버렸다고 한다.서울에서 태어나 몇 년 동안 살았지만 고향은 대구로 간주되며 흥분하면 말할 때 사투리가 좀 섞인다.펀치기계로 676점이 나왔다. 대구 깃털 걸이라는 이름으로 등장해서 금정구 불도저를 이겨보려고 했으나 좀 아쉬웠다.??:아쉽지만 대구로 가주시면 되겠습니다~ ??:대구로 가주세요~ YeoJin[+ +][X X][#][#] 이 문서의 내용 중 전체 또는 일부는 이달의 소녀 문서의 r123 판,  2.4번 문단에서 가져왔습니다. 이전 역사 보러 가기 \n"
     ]
    }
   ],
   "source": [
    "# 하나의 최근 변경된 문서를 크롤링합니다.\n",
    "req = requests.get(page_urls[0])\n",
    "html = req.content\n",
    "soup = BeautifulSoup(html, 'lxml')\n",
    "contents_table = soup.find(name=\"article\")\n",
    "title = contents_table.find_all('h1')[0]\n",
    "category = contents_table.find_all('ul')[0]\n",
    "content_paragraphs = contents_table.find_all(name=\"div\", attrs={\"class\":\"wiki-paragraph\"})\n",
    "content_corpus_list = []\n",
    "\n",
    "for paragraphs in content_paragraphs:\n",
    "    content_corpus_list.append(paragraphs.text)\n",
    "content_corpus = \"\".join(content_corpus_list)\n",
    "\n",
    "print(title.text)\n",
    "print(\"\\n\")\n",
    "print(category.text)\n",
    "print(\"\\n\")\n",
    "print(content_corpus)"
   ]
  },
  {
   "cell_type": "code",
   "execution_count": null,
   "metadata": {},
   "outputs": [],
   "source": []
  }
 ],
 "metadata": {
  "kernelspec": {
   "display_name": "Python 3",
   "language": "python",
   "name": "python3"
  },
  "language_info": {
   "codemirror_mode": {
    "name": "ipython",
    "version": 3
   },
   "file_extension": ".py",
   "mimetype": "text/x-python",
   "name": "python",
   "nbconvert_exporter": "python",
   "pygments_lexer": "ipython3",
   "version": "3.7.4"
  },
  "toc": {
   "base_numbering": 1,
   "nav_menu": {},
   "number_sections": true,
   "sideBar": true,
   "skip_h1_title": false,
   "title_cell": "Table of Contents",
   "title_sidebar": "Contents",
   "toc_cell": false,
   "toc_position": {
    "height": "calc(100% - 180px)",
    "left": "10px",
    "top": "150px",
    "width": "384px"
   },
   "toc_section_display": true,
   "toc_window_display": true
  }
 },
 "nbformat": 4,
 "nbformat_minor": 2
}
