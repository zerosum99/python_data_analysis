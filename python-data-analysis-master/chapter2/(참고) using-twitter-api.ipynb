{
 "cells": [
  {
   "cell_type": "markdown",
   "metadata": {},
   "source": [
    "Copyright (c) 2019 [윤기태]\n",
    "\n",
    "https://github.com/yoonkt200/python-data-analysis\n",
    "\n",
    "[MIT License](https://github.com/yoonkt200/python-data-analysis/blob/master/LICENSE.txt)"
   ]
  },
  {
   "cell_type": "markdown",
   "metadata": {},
   "source": [
    "# (가제) 파이썬 데이터 분석"
   ]
  },
  {
   "cell_type": "markdown",
   "metadata": {},
   "source": [
    "-----"
   ]
  },
  {
   "cell_type": "markdown",
   "metadata": {},
   "source": [
    "# 트위터 API 사용법"
   ]
  },
  {
   "cell_type": "markdown",
   "metadata": {},
   "source": [
    "### 1. 트위터 개발자 계정 신청"
   ]
  },
  {
   "cell_type": "markdown",
   "metadata": {},
   "source": [
    "- 트위터 개발자 앱 등록 페이지 : https://developer.twitter.com/en/apps\n",
    "    - `개발자 계정이 없는 경우, 아래와 같은 과정을 거쳐 개발자 계정을 등록`"
   ]
  },
  {
   "cell_type": "markdown",
   "metadata": {},
   "source": [
    "![앱 생성 페이지](img/1.png)"
   ]
  },
  {
   "cell_type": "markdown",
   "metadata": {},
   "source": [
    "![앱 생성 페이지](img/2.png)"
   ]
  },
  {
   "cell_type": "markdown",
   "metadata": {},
   "source": [
    "![앱 생성 페이지](img/3.png)"
   ]
  },
  {
   "cell_type": "markdown",
   "metadata": {},
   "source": [
    "![앱 생성 페이지](img/4.png)"
   ]
  },
  {
   "cell_type": "markdown",
   "metadata": {},
   "source": [
    "![앱 생성 페이지](img/5.png)"
   ]
  },
  {
   "cell_type": "markdown",
   "metadata": {},
   "source": [
    "- 개발자 등록을 마친 계정은 며칠 후에 승인을 받게 됩니다."
   ]
  },
  {
   "cell_type": "markdown",
   "metadata": {},
   "source": [
    "-----"
   ]
  },
  {
   "cell_type": "markdown",
   "metadata": {},
   "source": [
    "### 2. 트위터 apps 등록"
   ]
  },
  {
   "cell_type": "markdown",
   "metadata": {},
   "source": [
    "- `개발자 앱 등록`"
   ]
  },
  {
   "cell_type": "markdown",
   "metadata": {},
   "source": [
    "![앱 생성 페이지](img/1.png)"
   ]
  },
  {
   "cell_type": "markdown",
   "metadata": {},
   "source": [
    "-----\n",
    "- `아래의 내용을 기입하여 앱을 생성`\n",
    "    - Name : 앱의 이름\n",
    "    - Description : 앱의 요약\n",
    "    - Website : 앱에서 보여질 URL (아무 주소나 넣어도 상관 X)\n",
    "    - ..."
   ]
  },
  {
   "cell_type": "markdown",
   "metadata": {},
   "source": [
    "![앱 생성 페이지](img/6.png)"
   ]
  },
  {
   "cell_type": "markdown",
   "metadata": {},
   "source": [
    "![앱 생성 페이지](img/7.png)"
   ]
  },
  {
   "cell_type": "markdown",
   "metadata": {},
   "source": [
    "-----\n",
    "- `앱 생성 후, 아래의 중요 정보를 반드시 확인`\n",
    "    - Consumer Key (API Key)\n",
    "    - Consumer Secret (API Secret)\n",
    "    - Access Token\n",
    "    - Access Token Secret"
   ]
  },
  {
   "cell_type": "markdown",
   "metadata": {},
   "source": [
    "![앱 생성 페이지](img/8.png)"
   ]
  },
  {
   "cell_type": "markdown",
   "metadata": {},
   "source": [
    "-----"
   ]
  },
  {
   "cell_type": "markdown",
   "metadata": {},
   "source": [
    "### 3. 파이썬 API 설정"
   ]
  },
  {
   "cell_type": "markdown",
   "metadata": {},
   "source": [
    "- 아래 코드 실행을 위해, anaconda prompt 혹은 Terminal에서 아래와 같은 패키지들을 설치해 줍니다.\n",
    "    - (env_name) `pip install beautifulsoup4`\n",
    "    - (env_name) `pip install lxml`\n",
    "- 혹은 아래의 코드로 라이브러리를 설치합니다."
   ]
  },
  {
   "cell_type": "code",
   "execution_count": 1,
   "metadata": {},
   "outputs": [],
   "source": [
    "# 패키지 설치 확인\n",
    "import tweepy"
   ]
  },
  {
   "cell_type": "markdown",
   "metadata": {},
   "source": [
    "-----"
   ]
  },
  {
   "cell_type": "markdown",
   "metadata": {},
   "source": [
    "- 2. 아래의 코드를 실행하여 API 토큰 인증"
   ]
  },
  {
   "cell_type": "code",
   "execution_count": 2,
   "metadata": {},
   "outputs": [],
   "source": [
    "import tweepy\n",
    "\n",
    "# 발급 완료된 키를 {your_key} 대신 입력합니다.\n",
    "CONSUMER_KEY = \"{your_key}\"\n",
    "CONSUMER_SECRET = \"{your_key}\"\n",
    "ACCESS_TOKEN_KEY = \"{your_key}\"\n",
    "ACCESS_TOKEN_SECRET = \"{your_key}\"\n",
    "\n",
    "# 개인정보 인증을 요청하는 Handler입니다.\n",
    "auth = tweepy.OAuthHandler(CONSUMER_KEY, CONSUMER_SECRET)\n",
    "\n",
    "# 인증 요청을 수행합니다.\n",
    "auth.set_access_token(ACCESS_TOKEN_KEY, ACCESS_TOKEN_SECRET)\n",
    "\n",
    "# twitter API를 사용하기 위한 준비입니다.\n",
    "api = tweepy.API(auth)"
   ]
  },
  {
   "cell_type": "code",
   "execution_count": 3,
   "metadata": {
    "scrolled": true
   },
   "outputs": [
    {
     "name": "stdout",
     "output_type": "stream",
     "text": [
      "[{'screen_name': 'sportsgkorea', 'name': '스포츠니어스', 'id': 756458099506974720, 'id_str': '756458099506974720', 'indices': [3, 16]}]\n",
      "[]\n",
      "RT @sportsgkorea: '우리 홍'도 흥해랏 https://t.co/GdMKWGwdUh\n",
      "[]\n",
      "[{'text': '손흥민', 'indices': [108, 112]}]\n",
      "- 흥민 의조선수 ( 국대 선수밈들 파요😀 ) \n",
      "- 토트넘도 좋아요⚽️\n",
      "\n",
      "* 진입장벽 엄청 낮아요! 치대주세요:)\n",
      "* 디엠도 하고 친해지고 싶어요!\n",
      "* 여기에 흔적 남겨주시면 팔로+디엠갈게요\n",
      "\n",
      "#손흥민… https://t.co/HEEhzP05Ky\n",
      "[]\n",
      "[]\n",
      "'우리 홍'도 흥해랏 https://t.co/GdMKWGwdUh\n",
      "[]\n",
      "[{'text': '정품ㅂㅣㅇㅏ그ㄹㅏ판ㅁㅐ', 'indices': [38, 51]}, {'text': 'ㅅㅣ알ㄹㅣ스파는곳', 'indices': [52, 62]}]\n",
      "판빙빙 아이폰9 이현승 비파워\n",
      "손흥민 골 박지원 김유리 창원 싱크홀\n",
      "#정품ㅂㅣㅇㅏ그ㄹㅏ판ㅁㅐ\n",
      "#ㅅㅣ알ㄹㅣ스파는곳\n",
      "\n",
      "네이버 \"비파워\"검색 ●\n",
      "\n",
      "ㅂㅣㅇㅏ그라가격 홈피\n",
      "er^^% https://t.co/Qqd96wHRYO\n",
      "[]\n",
      "[{'text': '정품ㅂㅣㅇㅏ그ㄹㅏ구입방법', 'indices': [42, 56]}, {'text': '정품ㅂㅣㅇㅏ그ㄹㅏ판ㅁㅐ', 'indices': [57, 70]}]\n",
      "런닝맨 빅포레스트 민혁 비파워\n",
      "부산택시파업 손흥민 개인기 kbo 한국 칠레\n",
      "#정품ㅂㅣㅇㅏ그ㄹㅏ구입방법\n",
      "#정품ㅂㅣㅇㅏ그ㄹㅏ판ㅁㅐ\n",
      "\n",
      "네이버 \"비파워\"검색 ⊙\n",
      "\n",
      "ㅂㅣㅇㅏ그라구입 90000원\n",
      "dt@^~ https://t.co/gwmvBU38aZ\n",
      "[{'screen_name': 'classs_77', 'name': 'S̷ᑢ𝕃ᗩS͎S̲', 'id': 1032923568256966657, 'id_str': '1032923568256966657', 'indices': [3, 13]}]\n",
      "[{'text': '손흥민', 'indices': [75, 79]}]\n",
      "RT @classs_77: 뻔뻔한 톹두넘의 재간둥이🥰 개웃긴다고ㅋㅋㅋㅋㅋㅋㅋㅋ 20초쯤 단체로 얼탱미소ㅋㅋㅋㅋㅋㅋㅋㅋㅋㅋㅋㅋㅋㅋㅋ \n",
      "\n",
      "#손흥민 https://t.co/8PPdc5hENF\n",
      "[{'screen_name': 'allesgute9278', 'name': '흥민님🇰🇷/⚠️EXO투표계정⚠️', 'id': 1087709680158236672, 'id_str': '1087709680158236672', 'indices': [3, 17]}]\n",
      "[]\n",
      "RT @allesgute9278: RT이벤트) 손흥민 선수 종이 슬로건입니다! 작년 여름에 방꾸미려고 스냅스에서 제작했던 거예요! 좀 과하게해서 안쓴 슬로건은 opp 봉투에 넣고 보관만 했네요😂 알티 해주시는 분들 중 한 분 뽑아서 드려요-!\n",
      "배송비…\n",
      "[{'screen_name': 'classs_77', 'name': 'S̷ᑢ𝕃ᗩS͎S̲', 'id': 1032923568256966657, 'id_str': '1032923568256966657', 'indices': [3, 13]}]\n",
      "[{'text': '손흥민', 'indices': [75, 79]}]\n",
      "RT @classs_77: 뻔뻔한 톹두넘의 재간둥이🥰 개웃긴다고ㅋㅋㅋㅋㅋㅋㅋㅋ 20초쯤 단체로 얼탱미소ㅋㅋㅋㅋㅋㅋㅋㅋㅋㅋㅋㅋㅋㅋㅋ \n",
      "\n",
      "#손흥민 https://t.co/8PPdc5hENF\n",
      "[{'screen_name': 'JMqJYkOao491Elp', 'name': '우뮹⚽️🏅', 'id': 1088847932827217921, 'id_str': '1088847932827217921', 'indices': [3, 19]}]\n",
      "[]\n",
      "RT @JMqJYkOao491Elp: 👋우뮹의 첫 트친소👋\n",
      "💗국대 다 좋아해용💗\n",
      "💓손흥민 김문환 이승우 위주 가용💓\n",
      "🐵0n년생 이랍니당🐵\n",
      "😜다가와 주는거 짱 좋아해용 많이 다가와 주세용😜 \n",
      "💖❗️흔적 남기면 바로 찾아 갈께용❗️💖 https://t.…\n",
      "[{'screen_name': 'Semper__liber', 'name': '너의 봄날🌿', 'id': 1015839266125967360, 'id_str': '1015839266125967360', 'indices': [3, 17]}]\n",
      "[]\n",
      "RT @Semper__liber: 자국선수가 EPL에서 기립박수를 받는 것\n",
      "토트넘 새로운 구장에서 첫 골을 넣은 것\n",
      "대체 손흥민 얼마나 대단한 사람인거야 ㅠㅠ https://t.co/40I9Vu6u6L\n",
      "[]\n",
      "[]\n",
      "원더골만 넣는 ＇우리홍＇ 송홍민 \n",
      "\n",
      "복사골 손흥민 ㅋㅋㅋ\n",
      "https://t.co/jxRWZj7uqp\n",
      "[{'screen_name': 'allesgute9278', 'name': '흥민님🇰🇷/⚠️EXO투표계정⚠️', 'id': 1087709680158236672, 'id_str': '1087709680158236672', 'indices': [3, 17]}]\n",
      "[]\n",
      "RT @allesgute9278: RT이벤트) 손흥민 선수 종이 슬로건입니다! 작년 여름에 방꾸미려고 스냅스에서 제작했던 거예요! 좀 과하게해서 안쓴 슬로건은 opp 봉투에 넣고 보관만 했네요😂 알티 해주시는 분들 중 한 분 뽑아서 드려요-!\n",
      "배송비…\n",
      "[]\n",
      "[{'text': '정품ㅂㅣㅇㅏ그ㄹㅏ구입방법', 'indices': [47, 61]}, {'text': '정품ㅂㅣㅇㅏ그ㄹㅏ판ㅁㅐ', 'indices': [62, 75]}]\n",
      "경북대학교 쿠웨이트 토트넘 아스날 비파워\n",
      "카풀 뜻 손흥민 개인기 최지만 천하일미김치\n",
      "#정품ㅂㅣㅇㅏ그ㄹㅏ구입방법\n",
      "#정품ㅂㅣㅇㅏ그ㄹㅏ판ㅁㅐ\n",
      "\n",
      "네이버 \"비파워\"검색 ◇\n",
      "\n",
      "ㅂㅣㅇㅏ그라가격 1+1 구입처\n",
      "iu@^* https://t.co/VF8NjyqsVJ\n",
      "[{'screen_name': 'allesgute9278', 'name': '흥민님🇰🇷/⚠️EXO투표계정⚠️', 'id': 1087709680158236672, 'id_str': '1087709680158236672', 'indices': [3, 17]}]\n",
      "[]\n",
      "RT @allesgute9278: RT이벤트) 손흥민 선수 종이 슬로건입니다! 작년 여름에 방꾸미려고 스냅스에서 제작했던 거예요! 좀 과하게해서 안쓴 슬로건은 opp 봉투에 넣고 보관만 했네요😂 알티 해주시는 분들 중 한 분 뽑아서 드려요-!\n",
      "배송비…\n"
     ]
    }
   ],
   "source": [
    "# twitter API를 사용하여 ‘손흥민’이 포함된 트윗들을 크롤링한 뒤, entities 에서 ‘user_mentions’, ‘hashtags’를 추출합니다.\n",
    "keyword = \"손흥민\"\n",
    "tweets = api.search(keyword)\n",
    "for tweet in tweets:\n",
    "    print(tweet.entities['user_mentions'])\n",
    "    print(tweet.entities['hashtags'])\n",
    "    print(tweet.text)"
   ]
  }
 ],
 "metadata": {
  "kernelspec": {
   "display_name": "Python 3",
   "language": "python",
   "name": "python3"
  },
  "language_info": {
   "codemirror_mode": {
    "name": "ipython",
    "version": 3
   },
   "file_extension": ".py",
   "mimetype": "text/x-python",
   "name": "python",
   "nbconvert_exporter": "python",
   "pygments_lexer": "ipython3",
   "version": "3.7.4"
  },
  "toc": {
   "base_numbering": 1,
   "nav_menu": {},
   "number_sections": true,
   "sideBar": true,
   "skip_h1_title": false,
   "title_cell": "Table of Contents",
   "title_sidebar": "Contents",
   "toc_cell": false,
   "toc_position": {},
   "toc_section_display": true,
   "toc_window_display": true
  }
 },
 "nbformat": 4,
 "nbformat_minor": 2
}
