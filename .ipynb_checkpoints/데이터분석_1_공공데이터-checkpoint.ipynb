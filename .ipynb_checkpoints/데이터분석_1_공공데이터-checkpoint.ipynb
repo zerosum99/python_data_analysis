{
 "cells": [
  {
   "cell_type": "code",
   "execution_count": 1,
   "metadata": {},
   "outputs": [],
   "source": [
    "from IPython.display import Image"
   ]
  },
  {
   "cell_type": "code",
   "execution_count": null,
   "metadata": {},
   "outputs": [],
   "source": []
  },
  {
   "cell_type": "code",
   "execution_count": null,
   "metadata": {},
   "outputs": [],
   "source": []
  },
  {
   "cell_type": "markdown",
   "metadata": {},
   "source": [
    "## 서울시 열린 데이터 \n",
    "\n",
    "https://data.seoul.go.kr/dataList/datasetList.do#"
   ]
  },
  {
   "cell_type": "code",
   "execution_count": 2,
   "metadata": {},
   "outputs": [],
   "source": [
    "Image(\"./이미지/서울시열린데이터.gif\")"
   ]
  },
  {
   "cell_type": "code",
   "execution_count": 3,
   "metadata": {},
   "outputs": [],
   "source": [
    "import pandas as pd"
   ]
  },
  {
   "cell_type": "code",
   "execution_count": 4,
   "metadata": {},
   "outputs": [],
   "source": [
    "df = pd.read_csv('./data/report.txt', sep='\\t')"
   ]
  },
  {
   "cell_type": "code",
   "execution_count": 5,
   "metadata": {},
   "outputs": [
    {
     "data": {
      "text/html": [
       "<div>\n",
       "<style scoped>\n",
       "    .dataframe tbody tr th:only-of-type {\n",
       "        vertical-align: middle;\n",
       "    }\n",
       "\n",
       "    .dataframe tbody tr th {\n",
       "        vertical-align: top;\n",
       "    }\n",
       "\n",
       "    .dataframe thead th {\n",
       "        text-align: right;\n",
       "    }\n",
       "</style>\n",
       "<table border=\"1\" class=\"dataframe\">\n",
       "  <thead>\n",
       "    <tr style=\"text-align: right;\">\n",
       "      <th></th>\n",
       "      <th>기간</th>\n",
       "      <th>지역</th>\n",
       "      <th>총인구</th>\n",
       "      <th>9세-24세</th>\n",
       "      <th>9세-24세.1</th>\n",
       "      <th>0세-18세</th>\n",
       "      <th>0세-18세.1</th>\n",
       "      <th>학령인구</th>\n",
       "      <th>학령인구.1</th>\n",
       "    </tr>\n",
       "  </thead>\n",
       "  <tbody>\n",
       "    <tr>\n",
       "      <th>0</th>\n",
       "      <td>기간</td>\n",
       "      <td>지역</td>\n",
       "      <td>총인구</td>\n",
       "      <td>계</td>\n",
       "      <td>구성비</td>\n",
       "      <td>계</td>\n",
       "      <td>구성비</td>\n",
       "      <td>계</td>\n",
       "      <td>구성비</td>\n",
       "    </tr>\n",
       "    <tr>\n",
       "      <th>1</th>\n",
       "      <td>2019</td>\n",
       "      <td>합계</td>\n",
       "      <td>9,729,107</td>\n",
       "      <td>1,535,840</td>\n",
       "      <td>15.8</td>\n",
       "      <td>1,370,602</td>\n",
       "      <td>14.1</td>\n",
       "      <td>1,340,213</td>\n",
       "      <td>13.8</td>\n",
       "    </tr>\n",
       "    <tr>\n",
       "      <th>2</th>\n",
       "      <td>2019</td>\n",
       "      <td>종로구</td>\n",
       "      <td>151,290</td>\n",
       "      <td>23,687</td>\n",
       "      <td>15.7</td>\n",
       "      <td>18,167</td>\n",
       "      <td>12</td>\n",
       "      <td>19,371</td>\n",
       "      <td>12.8</td>\n",
       "    </tr>\n",
       "    <tr>\n",
       "      <th>3</th>\n",
       "      <td>2019</td>\n",
       "      <td>중구</td>\n",
       "      <td>126,171</td>\n",
       "      <td>15,670</td>\n",
       "      <td>12.4</td>\n",
       "      <td>13,494</td>\n",
       "      <td>10.7</td>\n",
       "      <td>12,831</td>\n",
       "      <td>10.2</td>\n",
       "    </tr>\n",
       "    <tr>\n",
       "      <th>4</th>\n",
       "      <td>2019</td>\n",
       "      <td>용산구</td>\n",
       "      <td>228,670</td>\n",
       "      <td>31,549</td>\n",
       "      <td>13.8</td>\n",
       "      <td>28,214</td>\n",
       "      <td>12.3</td>\n",
       "      <td>27,146</td>\n",
       "      <td>11.9</td>\n",
       "    </tr>\n",
       "  </tbody>\n",
       "</table>\n",
       "</div>"
      ],
      "text/plain": [
       "     기간   지역        총인구     9세-24세 9세-24세.1     0세-18세 0세-18세.1       학령인구  \\\n",
       "0    기간   지역        총인구          계      구성비          계      구성비          계   \n",
       "1  2019   합계  9,729,107  1,535,840     15.8  1,370,602     14.1  1,340,213   \n",
       "2  2019  종로구    151,290     23,687     15.7     18,167       12     19,371   \n",
       "3  2019   중구    126,171     15,670     12.4     13,494     10.7     12,831   \n",
       "4  2019  용산구    228,670     31,549     13.8     28,214     12.3     27,146   \n",
       "\n",
       "  학령인구.1  \n",
       "0    구성비  \n",
       "1   13.8  \n",
       "2   12.8  \n",
       "3   10.2  \n",
       "4   11.9  "
      ]
     },
     "execution_count": 5,
     "metadata": {},
     "output_type": "execute_result"
    }
   ],
   "source": [
    "df.head()"
   ]
  },
  {
   "cell_type": "code",
   "execution_count": 6,
   "metadata": {},
   "outputs": [
    {
     "data": {
      "text/plain": [
       "(27, 9)"
      ]
     },
     "execution_count": 6,
     "metadata": {},
     "output_type": "execute_result"
    }
   ],
   "source": [
    "df.shape"
   ]
  },
  {
   "cell_type": "code",
   "execution_count": 7,
   "metadata": {},
   "outputs": [
    {
     "data": {
      "text/plain": [
       "Index(['기간', '지역', '총인구', '9세-24세', '9세-24세.1', '0세-18세', '0세-18세.1', '학령인구',\n",
       "       '학령인구.1'],\n",
       "      dtype='object')"
      ]
     },
     "execution_count": 7,
     "metadata": {},
     "output_type": "execute_result"
    }
   ],
   "source": [
    "df.columns"
   ]
  },
  {
   "cell_type": "code",
   "execution_count": 8,
   "metadata": {},
   "outputs": [
    {
     "data": {
      "text/plain": [
       "RangeIndex(start=0, stop=27, step=1)"
      ]
     },
     "execution_count": 8,
     "metadata": {},
     "output_type": "execute_result"
    }
   ],
   "source": [
    "df.index"
   ]
  },
  {
   "cell_type": "code",
   "execution_count": null,
   "metadata": {},
   "outputs": [],
   "source": []
  },
  {
   "cell_type": "code",
   "execution_count": 9,
   "metadata": {},
   "outputs": [],
   "source": [
    "df_1 = df[ 2 :].copy()"
   ]
  },
  {
   "cell_type": "code",
   "execution_count": 10,
   "metadata": {},
   "outputs": [
    {
     "data": {
      "text/html": [
       "<div>\n",
       "<style scoped>\n",
       "    .dataframe tbody tr th:only-of-type {\n",
       "        vertical-align: middle;\n",
       "    }\n",
       "\n",
       "    .dataframe tbody tr th {\n",
       "        vertical-align: top;\n",
       "    }\n",
       "\n",
       "    .dataframe thead th {\n",
       "        text-align: right;\n",
       "    }\n",
       "</style>\n",
       "<table border=\"1\" class=\"dataframe\">\n",
       "  <thead>\n",
       "    <tr style=\"text-align: right;\">\n",
       "      <th></th>\n",
       "      <th>기간</th>\n",
       "      <th>지역</th>\n",
       "      <th>총인구</th>\n",
       "      <th>9세-24세</th>\n",
       "      <th>9세-24세.1</th>\n",
       "      <th>0세-18세</th>\n",
       "      <th>0세-18세.1</th>\n",
       "      <th>학령인구</th>\n",
       "      <th>학령인구.1</th>\n",
       "    </tr>\n",
       "  </thead>\n",
       "  <tbody>\n",
       "    <tr>\n",
       "      <th>2</th>\n",
       "      <td>2019</td>\n",
       "      <td>종로구</td>\n",
       "      <td>151,290</td>\n",
       "      <td>23,687</td>\n",
       "      <td>15.7</td>\n",
       "      <td>18,167</td>\n",
       "      <td>12</td>\n",
       "      <td>19,371</td>\n",
       "      <td>12.8</td>\n",
       "    </tr>\n",
       "    <tr>\n",
       "      <th>3</th>\n",
       "      <td>2019</td>\n",
       "      <td>중구</td>\n",
       "      <td>126,171</td>\n",
       "      <td>15,670</td>\n",
       "      <td>12.4</td>\n",
       "      <td>13,494</td>\n",
       "      <td>10.7</td>\n",
       "      <td>12,831</td>\n",
       "      <td>10.2</td>\n",
       "    </tr>\n",
       "    <tr>\n",
       "      <th>4</th>\n",
       "      <td>2019</td>\n",
       "      <td>용산구</td>\n",
       "      <td>228,670</td>\n",
       "      <td>31,549</td>\n",
       "      <td>13.8</td>\n",
       "      <td>28,214</td>\n",
       "      <td>12.3</td>\n",
       "      <td>27,146</td>\n",
       "      <td>11.9</td>\n",
       "    </tr>\n",
       "    <tr>\n",
       "      <th>5</th>\n",
       "      <td>2019</td>\n",
       "      <td>성동구</td>\n",
       "      <td>300,889</td>\n",
       "      <td>43,769</td>\n",
       "      <td>14.5</td>\n",
       "      <td>40,214</td>\n",
       "      <td>13.4</td>\n",
       "      <td>36,972</td>\n",
       "      <td>12.3</td>\n",
       "    </tr>\n",
       "    <tr>\n",
       "      <th>6</th>\n",
       "      <td>2019</td>\n",
       "      <td>광진구</td>\n",
       "      <td>351,350</td>\n",
       "      <td>56,202</td>\n",
       "      <td>16</td>\n",
       "      <td>45,248</td>\n",
       "      <td>12.9</td>\n",
       "      <td>45,871</td>\n",
       "      <td>13.1</td>\n",
       "    </tr>\n",
       "  </tbody>\n",
       "</table>\n",
       "</div>"
      ],
      "text/plain": [
       "     기간   지역      총인구  9세-24세 9세-24세.1  0세-18세 0세-18세.1    학령인구 학령인구.1\n",
       "2  2019  종로구  151,290  23,687     15.7  18,167       12  19,371   12.8\n",
       "3  2019   중구  126,171  15,670     12.4  13,494     10.7  12,831   10.2\n",
       "4  2019  용산구  228,670  31,549     13.8  28,214     12.3  27,146   11.9\n",
       "5  2019  성동구  300,889  43,769     14.5  40,214     13.4  36,972   12.3\n",
       "6  2019  광진구  351,350  56,202       16  45,248     12.9  45,871   13.1"
      ]
     },
     "execution_count": 10,
     "metadata": {},
     "output_type": "execute_result"
    }
   ],
   "source": [
    "df_1.head()"
   ]
  },
  {
   "cell_type": "code",
   "execution_count": 11,
   "metadata": {},
   "outputs": [],
   "source": [
    "df_1 = df_1.reset_index().drop('index', axis=1)"
   ]
  },
  {
   "cell_type": "code",
   "execution_count": 12,
   "metadata": {},
   "outputs": [
    {
     "data": {
      "text/html": [
       "<div>\n",
       "<style scoped>\n",
       "    .dataframe tbody tr th:only-of-type {\n",
       "        vertical-align: middle;\n",
       "    }\n",
       "\n",
       "    .dataframe tbody tr th {\n",
       "        vertical-align: top;\n",
       "    }\n",
       "\n",
       "    .dataframe thead th {\n",
       "        text-align: right;\n",
       "    }\n",
       "</style>\n",
       "<table border=\"1\" class=\"dataframe\">\n",
       "  <thead>\n",
       "    <tr style=\"text-align: right;\">\n",
       "      <th></th>\n",
       "      <th>기간</th>\n",
       "      <th>지역</th>\n",
       "      <th>총인구</th>\n",
       "      <th>9세-24세</th>\n",
       "      <th>9세-24세.1</th>\n",
       "      <th>0세-18세</th>\n",
       "      <th>0세-18세.1</th>\n",
       "      <th>학령인구</th>\n",
       "      <th>학령인구.1</th>\n",
       "    </tr>\n",
       "  </thead>\n",
       "  <tbody>\n",
       "    <tr>\n",
       "      <th>0</th>\n",
       "      <td>2019</td>\n",
       "      <td>종로구</td>\n",
       "      <td>151,290</td>\n",
       "      <td>23,687</td>\n",
       "      <td>15.7</td>\n",
       "      <td>18,167</td>\n",
       "      <td>12</td>\n",
       "      <td>19,371</td>\n",
       "      <td>12.8</td>\n",
       "    </tr>\n",
       "    <tr>\n",
       "      <th>1</th>\n",
       "      <td>2019</td>\n",
       "      <td>중구</td>\n",
       "      <td>126,171</td>\n",
       "      <td>15,670</td>\n",
       "      <td>12.4</td>\n",
       "      <td>13,494</td>\n",
       "      <td>10.7</td>\n",
       "      <td>12,831</td>\n",
       "      <td>10.2</td>\n",
       "    </tr>\n",
       "    <tr>\n",
       "      <th>2</th>\n",
       "      <td>2019</td>\n",
       "      <td>용산구</td>\n",
       "      <td>228,670</td>\n",
       "      <td>31,549</td>\n",
       "      <td>13.8</td>\n",
       "      <td>28,214</td>\n",
       "      <td>12.3</td>\n",
       "      <td>27,146</td>\n",
       "      <td>11.9</td>\n",
       "    </tr>\n",
       "    <tr>\n",
       "      <th>3</th>\n",
       "      <td>2019</td>\n",
       "      <td>성동구</td>\n",
       "      <td>300,889</td>\n",
       "      <td>43,769</td>\n",
       "      <td>14.5</td>\n",
       "      <td>40,214</td>\n",
       "      <td>13.4</td>\n",
       "      <td>36,972</td>\n",
       "      <td>12.3</td>\n",
       "    </tr>\n",
       "    <tr>\n",
       "      <th>4</th>\n",
       "      <td>2019</td>\n",
       "      <td>광진구</td>\n",
       "      <td>351,350</td>\n",
       "      <td>56,202</td>\n",
       "      <td>16</td>\n",
       "      <td>45,248</td>\n",
       "      <td>12.9</td>\n",
       "      <td>45,871</td>\n",
       "      <td>13.1</td>\n",
       "    </tr>\n",
       "  </tbody>\n",
       "</table>\n",
       "</div>"
      ],
      "text/plain": [
       "     기간   지역      총인구  9세-24세 9세-24세.1  0세-18세 0세-18세.1    학령인구 학령인구.1\n",
       "0  2019  종로구  151,290  23,687     15.7  18,167       12  19,371   12.8\n",
       "1  2019   중구  126,171  15,670     12.4  13,494     10.7  12,831   10.2\n",
       "2  2019  용산구  228,670  31,549     13.8  28,214     12.3  27,146   11.9\n",
       "3  2019  성동구  300,889  43,769     14.5  40,214     13.4  36,972   12.3\n",
       "4  2019  광진구  351,350  56,202       16  45,248     12.9  45,871   13.1"
      ]
     },
     "execution_count": 12,
     "metadata": {},
     "output_type": "execute_result"
    }
   ],
   "source": [
    "df_1.head()"
   ]
  },
  {
   "cell_type": "code",
   "execution_count": 13,
   "metadata": {},
   "outputs": [
    {
     "data": {
      "text/plain": [
       "(25, 9)"
      ]
     },
     "execution_count": 13,
     "metadata": {},
     "output_type": "execute_result"
    }
   ],
   "source": [
    "df_1.shape"
   ]
  },
  {
   "cell_type": "code",
   "execution_count": 14,
   "metadata": {},
   "outputs": [
    {
     "data": {
      "text/html": [
       "<div>\n",
       "<style scoped>\n",
       "    .dataframe tbody tr th:only-of-type {\n",
       "        vertical-align: middle;\n",
       "    }\n",
       "\n",
       "    .dataframe tbody tr th {\n",
       "        vertical-align: top;\n",
       "    }\n",
       "\n",
       "    .dataframe thead th {\n",
       "        text-align: right;\n",
       "    }\n",
       "</style>\n",
       "<table border=\"1\" class=\"dataframe\">\n",
       "  <thead>\n",
       "    <tr style=\"text-align: right;\">\n",
       "      <th></th>\n",
       "      <th>기간</th>\n",
       "      <th>지역</th>\n",
       "      <th>총인구</th>\n",
       "      <th>9세-24세</th>\n",
       "      <th>9세-24세.1</th>\n",
       "      <th>0세-18세</th>\n",
       "      <th>0세-18세.1</th>\n",
       "      <th>학령인구</th>\n",
       "      <th>학령인구.1</th>\n",
       "    </tr>\n",
       "  </thead>\n",
       "  <tbody>\n",
       "    <tr>\n",
       "      <th>20</th>\n",
       "      <td>2019</td>\n",
       "      <td>관악구</td>\n",
       "      <td>500,094</td>\n",
       "      <td>73,127</td>\n",
       "      <td>14.6</td>\n",
       "      <td>50,933</td>\n",
       "      <td>10.2</td>\n",
       "      <td>53,111</td>\n",
       "      <td>10.6</td>\n",
       "    </tr>\n",
       "    <tr>\n",
       "      <th>21</th>\n",
       "      <td>2019</td>\n",
       "      <td>서초구</td>\n",
       "      <td>430,826</td>\n",
       "      <td>76,156</td>\n",
       "      <td>17.7</td>\n",
       "      <td>76,676</td>\n",
       "      <td>17.8</td>\n",
       "      <td>73,427</td>\n",
       "      <td>17</td>\n",
       "    </tr>\n",
       "    <tr>\n",
       "      <th>22</th>\n",
       "      <td>2019</td>\n",
       "      <td>강남구</td>\n",
       "      <td>545,169</td>\n",
       "      <td>99,708</td>\n",
       "      <td>18.3</td>\n",
       "      <td>91,541</td>\n",
       "      <td>16.8</td>\n",
       "      <td>93,164</td>\n",
       "      <td>17.1</td>\n",
       "    </tr>\n",
       "    <tr>\n",
       "      <th>23</th>\n",
       "      <td>2019</td>\n",
       "      <td>송파구</td>\n",
       "      <td>675,961</td>\n",
       "      <td>109,333</td>\n",
       "      <td>16.2</td>\n",
       "      <td>107,298</td>\n",
       "      <td>15.9</td>\n",
       "      <td>100,433</td>\n",
       "      <td>14.9</td>\n",
       "    </tr>\n",
       "    <tr>\n",
       "      <th>24</th>\n",
       "      <td>2019</td>\n",
       "      <td>강동구</td>\n",
       "      <td>436,067</td>\n",
       "      <td>68,438</td>\n",
       "      <td>15.7</td>\n",
       "      <td>65,586</td>\n",
       "      <td>15</td>\n",
       "      <td>62,215</td>\n",
       "      <td>14.3</td>\n",
       "    </tr>\n",
       "  </tbody>\n",
       "</table>\n",
       "</div>"
      ],
      "text/plain": [
       "      기간   지역      총인구   9세-24세 9세-24세.1   0세-18세 0세-18세.1     학령인구 학령인구.1\n",
       "20  2019  관악구  500,094   73,127     14.6   50,933     10.2   53,111   10.6\n",
       "21  2019  서초구  430,826   76,156     17.7   76,676     17.8   73,427     17\n",
       "22  2019  강남구  545,169   99,708     18.3   91,541     16.8   93,164   17.1\n",
       "23  2019  송파구  675,961  109,333     16.2  107,298     15.9  100,433   14.9\n",
       "24  2019  강동구  436,067   68,438     15.7   65,586       15   62,215   14.3"
      ]
     },
     "execution_count": 14,
     "metadata": {},
     "output_type": "execute_result"
    }
   ],
   "source": [
    "df_1.tail()"
   ]
  },
  {
   "cell_type": "code",
   "execution_count": null,
   "metadata": {},
   "outputs": [],
   "source": []
  },
  {
   "cell_type": "code",
   "execution_count": 15,
   "metadata": {},
   "outputs": [
    {
     "name": "stdout",
     "output_type": "stream",
     "text": [
      "<class 'pandas.core.frame.DataFrame'>\n",
      "RangeIndex: 25 entries, 0 to 24\n",
      "Data columns (total 9 columns):\n",
      " #   Column    Non-Null Count  Dtype \n",
      "---  ------    --------------  ----- \n",
      " 0   기간        25 non-null     object\n",
      " 1   지역        25 non-null     object\n",
      " 2   총인구       25 non-null     object\n",
      " 3   9세-24세    25 non-null     object\n",
      " 4   9세-24세.1  25 non-null     object\n",
      " 5   0세-18세    25 non-null     object\n",
      " 6   0세-18세.1  25 non-null     object\n",
      " 7   학령인구      25 non-null     object\n",
      " 8   학령인구.1    25 non-null     object\n",
      "dtypes: object(9)\n",
      "memory usage: 1.9+ KB\n"
     ]
    }
   ],
   "source": [
    "df_1.info()"
   ]
  },
  {
   "cell_type": "code",
   "execution_count": null,
   "metadata": {},
   "outputs": [],
   "source": []
  },
  {
   "cell_type": "code",
   "execution_count": 16,
   "metadata": {},
   "outputs": [],
   "source": [
    "df_1['총인구'] = df_1['총인구'].str.replace(\",\", \"\")"
   ]
  },
  {
   "cell_type": "code",
   "execution_count": 17,
   "metadata": {},
   "outputs": [],
   "source": [
    "df_1['9세-24세'] = df_1['9세-24세'].str.replace(\",\", \"\")"
   ]
  },
  {
   "cell_type": "code",
   "execution_count": 18,
   "metadata": {},
   "outputs": [],
   "source": [
    "df_1['0세-18세'] = df_1['0세-18세'].str.replace(\",\", \"\")"
   ]
  },
  {
   "cell_type": "code",
   "execution_count": 19,
   "metadata": {},
   "outputs": [],
   "source": [
    "df_1['학령인구'] = df_1['학령인구'].str.replace(\",\", \"\")"
   ]
  },
  {
   "cell_type": "code",
   "execution_count": null,
   "metadata": {},
   "outputs": [],
   "source": []
  },
  {
   "cell_type": "code",
   "execution_count": 20,
   "metadata": {},
   "outputs": [],
   "source": [
    "col_list = df_1.columns.tolist()"
   ]
  },
  {
   "cell_type": "code",
   "execution_count": 21,
   "metadata": {},
   "outputs": [
    {
     "data": {
      "text/plain": [
       "['기간',\n",
       " '지역',\n",
       " '총인구',\n",
       " '9세-24세',\n",
       " '9세-24세.1',\n",
       " '0세-18세',\n",
       " '0세-18세.1',\n",
       " '학령인구',\n",
       " '학령인구.1']"
      ]
     },
     "execution_count": 21,
     "metadata": {},
     "output_type": "execute_result"
    }
   ],
   "source": [
    "col_list "
   ]
  },
  {
   "cell_type": "code",
   "execution_count": 22,
   "metadata": {},
   "outputs": [],
   "source": [
    "col_repl = ['기간',\n",
    " '지역',\n",
    " '총인구',\n",
    " '9세-24세',\n",
    " '9세-24세비율',\n",
    " '0세-18세',\n",
    " '0세-18세비율',\n",
    " '학령인구',\n",
    " '학령인구비율']"
   ]
  },
  {
   "cell_type": "code",
   "execution_count": 23,
   "metadata": {},
   "outputs": [],
   "source": [
    "df_1.columns = col_repl"
   ]
  },
  {
   "cell_type": "code",
   "execution_count": 24,
   "metadata": {},
   "outputs": [
    {
     "data": {
      "text/html": [
       "<div>\n",
       "<style scoped>\n",
       "    .dataframe tbody tr th:only-of-type {\n",
       "        vertical-align: middle;\n",
       "    }\n",
       "\n",
       "    .dataframe tbody tr th {\n",
       "        vertical-align: top;\n",
       "    }\n",
       "\n",
       "    .dataframe thead th {\n",
       "        text-align: right;\n",
       "    }\n",
       "</style>\n",
       "<table border=\"1\" class=\"dataframe\">\n",
       "  <thead>\n",
       "    <tr style=\"text-align: right;\">\n",
       "      <th></th>\n",
       "      <th>기간</th>\n",
       "      <th>지역</th>\n",
       "      <th>총인구</th>\n",
       "      <th>9세-24세</th>\n",
       "      <th>9세-24세비율</th>\n",
       "      <th>0세-18세</th>\n",
       "      <th>0세-18세비율</th>\n",
       "      <th>학령인구</th>\n",
       "      <th>학령인구비율</th>\n",
       "    </tr>\n",
       "  </thead>\n",
       "  <tbody>\n",
       "    <tr>\n",
       "      <th>0</th>\n",
       "      <td>2019</td>\n",
       "      <td>종로구</td>\n",
       "      <td>151290</td>\n",
       "      <td>23687</td>\n",
       "      <td>15.7</td>\n",
       "      <td>18167</td>\n",
       "      <td>12</td>\n",
       "      <td>19371</td>\n",
       "      <td>12.8</td>\n",
       "    </tr>\n",
       "    <tr>\n",
       "      <th>1</th>\n",
       "      <td>2019</td>\n",
       "      <td>중구</td>\n",
       "      <td>126171</td>\n",
       "      <td>15670</td>\n",
       "      <td>12.4</td>\n",
       "      <td>13494</td>\n",
       "      <td>10.7</td>\n",
       "      <td>12831</td>\n",
       "      <td>10.2</td>\n",
       "    </tr>\n",
       "    <tr>\n",
       "      <th>2</th>\n",
       "      <td>2019</td>\n",
       "      <td>용산구</td>\n",
       "      <td>228670</td>\n",
       "      <td>31549</td>\n",
       "      <td>13.8</td>\n",
       "      <td>28214</td>\n",
       "      <td>12.3</td>\n",
       "      <td>27146</td>\n",
       "      <td>11.9</td>\n",
       "    </tr>\n",
       "    <tr>\n",
       "      <th>3</th>\n",
       "      <td>2019</td>\n",
       "      <td>성동구</td>\n",
       "      <td>300889</td>\n",
       "      <td>43769</td>\n",
       "      <td>14.5</td>\n",
       "      <td>40214</td>\n",
       "      <td>13.4</td>\n",
       "      <td>36972</td>\n",
       "      <td>12.3</td>\n",
       "    </tr>\n",
       "    <tr>\n",
       "      <th>4</th>\n",
       "      <td>2019</td>\n",
       "      <td>광진구</td>\n",
       "      <td>351350</td>\n",
       "      <td>56202</td>\n",
       "      <td>16</td>\n",
       "      <td>45248</td>\n",
       "      <td>12.9</td>\n",
       "      <td>45871</td>\n",
       "      <td>13.1</td>\n",
       "    </tr>\n",
       "  </tbody>\n",
       "</table>\n",
       "</div>"
      ],
      "text/plain": [
       "     기간   지역     총인구 9세-24세 9세-24세비율 0세-18세 0세-18세비율   학령인구 학령인구비율\n",
       "0  2019  종로구  151290  23687     15.7  18167       12  19371   12.8\n",
       "1  2019   중구  126171  15670     12.4  13494     10.7  12831   10.2\n",
       "2  2019  용산구  228670  31549     13.8  28214     12.3  27146   11.9\n",
       "3  2019  성동구  300889  43769     14.5  40214     13.4  36972   12.3\n",
       "4  2019  광진구  351350  56202       16  45248     12.9  45871   13.1"
      ]
     },
     "execution_count": 24,
     "metadata": {},
     "output_type": "execute_result"
    }
   ],
   "source": [
    "df_1.head()"
   ]
  },
  {
   "cell_type": "code",
   "execution_count": 25,
   "metadata": {},
   "outputs": [
    {
     "name": "stdout",
     "output_type": "stream",
     "text": [
      "<class 'pandas.core.frame.DataFrame'>\n",
      "RangeIndex: 25 entries, 0 to 24\n",
      "Data columns (total 9 columns):\n",
      " #   Column    Non-Null Count  Dtype \n",
      "---  ------    --------------  ----- \n",
      " 0   기간        25 non-null     object\n",
      " 1   지역        25 non-null     object\n",
      " 2   총인구       25 non-null     object\n",
      " 3   9세-24세    25 non-null     object\n",
      " 4   9세-24세비율  25 non-null     object\n",
      " 5   0세-18세    25 non-null     object\n",
      " 6   0세-18세비율  25 non-null     object\n",
      " 7   학령인구      25 non-null     object\n",
      " 8   학령인구비율    25 non-null     object\n",
      "dtypes: object(9)\n",
      "memory usage: 1.9+ KB\n"
     ]
    }
   ],
   "source": [
    "df_1.info()"
   ]
  },
  {
   "cell_type": "code",
   "execution_count": null,
   "metadata": {},
   "outputs": [],
   "source": []
  },
  {
   "cell_type": "code",
   "execution_count": 26,
   "metadata": {},
   "outputs": [],
   "source": [
    "df_1['총인구'] = df_1['총인구'].astype('int')"
   ]
  },
  {
   "cell_type": "code",
   "execution_count": 27,
   "metadata": {},
   "outputs": [],
   "source": [
    "df_1['9세-24세'] = df_1['9세-24세'].astype('int')"
   ]
  },
  {
   "cell_type": "code",
   "execution_count": 28,
   "metadata": {},
   "outputs": [],
   "source": [
    "df_1['0세-18세'] = df_1['0세-18세'].astype('int')"
   ]
  },
  {
   "cell_type": "code",
   "execution_count": 29,
   "metadata": {},
   "outputs": [],
   "source": [
    "df_1['학령인구'] = df_1['학령인구'].astype('int')"
   ]
  },
  {
   "cell_type": "code",
   "execution_count": null,
   "metadata": {},
   "outputs": [],
   "source": []
  },
  {
   "cell_type": "code",
   "execution_count": 30,
   "metadata": {},
   "outputs": [],
   "source": [
    "df_1['9세-24세비율'] = df_1['9세-24세비율'].astype('float')"
   ]
  },
  {
   "cell_type": "code",
   "execution_count": 31,
   "metadata": {},
   "outputs": [],
   "source": [
    "df_1['0세-18세비율'] = df_1['0세-18세비율'].astype('float')"
   ]
  },
  {
   "cell_type": "code",
   "execution_count": 32,
   "metadata": {},
   "outputs": [],
   "source": [
    "df_1['학령인구비율'] = df_1['학령인구비율'].astype('float')"
   ]
  },
  {
   "cell_type": "code",
   "execution_count": null,
   "metadata": {},
   "outputs": [],
   "source": []
  },
  {
   "cell_type": "code",
   "execution_count": 33,
   "metadata": {},
   "outputs": [
    {
     "name": "stdout",
     "output_type": "stream",
     "text": [
      "<class 'pandas.core.frame.DataFrame'>\n",
      "RangeIndex: 25 entries, 0 to 24\n",
      "Data columns (total 9 columns):\n",
      " #   Column    Non-Null Count  Dtype  \n",
      "---  ------    --------------  -----  \n",
      " 0   기간        25 non-null     object \n",
      " 1   지역        25 non-null     object \n",
      " 2   총인구       25 non-null     int32  \n",
      " 3   9세-24세    25 non-null     int32  \n",
      " 4   9세-24세비율  25 non-null     float64\n",
      " 5   0세-18세    25 non-null     int32  \n",
      " 6   0세-18세비율  25 non-null     float64\n",
      " 7   학령인구      25 non-null     int32  \n",
      " 8   학령인구비율    25 non-null     float64\n",
      "dtypes: float64(3), int32(4), object(2)\n",
      "memory usage: 1.5+ KB\n"
     ]
    }
   ],
   "source": [
    "df_1.info()"
   ]
  },
  {
   "cell_type": "code",
   "execution_count": 34,
   "metadata": {},
   "outputs": [
    {
     "data": {
      "text/html": [
       "<div>\n",
       "<style scoped>\n",
       "    .dataframe tbody tr th:only-of-type {\n",
       "        vertical-align: middle;\n",
       "    }\n",
       "\n",
       "    .dataframe tbody tr th {\n",
       "        vertical-align: top;\n",
       "    }\n",
       "\n",
       "    .dataframe thead th {\n",
       "        text-align: right;\n",
       "    }\n",
       "</style>\n",
       "<table border=\"1\" class=\"dataframe\">\n",
       "  <thead>\n",
       "    <tr style=\"text-align: right;\">\n",
       "      <th></th>\n",
       "      <th>count</th>\n",
       "      <th>mean</th>\n",
       "      <th>std</th>\n",
       "      <th>min</th>\n",
       "      <th>25%</th>\n",
       "      <th>50%</th>\n",
       "      <th>75%</th>\n",
       "      <th>max</th>\n",
       "    </tr>\n",
       "  </thead>\n",
       "  <tbody>\n",
       "    <tr>\n",
       "      <th>총인구</th>\n",
       "      <td>25.0</td>\n",
       "      <td>389164.280</td>\n",
       "      <td>129693.890460</td>\n",
       "      <td>126171.0</td>\n",
       "      <td>313954.0</td>\n",
       "      <td>395963.0</td>\n",
       "      <td>458165.0</td>\n",
       "      <td>675961.0</td>\n",
       "    </tr>\n",
       "    <tr>\n",
       "      <th>9세-24세</th>\n",
       "      <td>25.0</td>\n",
       "      <td>61433.600</td>\n",
       "      <td>23930.437294</td>\n",
       "      <td>15670.0</td>\n",
       "      <td>48998.0</td>\n",
       "      <td>58020.0</td>\n",
       "      <td>74775.0</td>\n",
       "      <td>109333.0</td>\n",
       "    </tr>\n",
       "    <tr>\n",
       "      <th>9세-24세비율</th>\n",
       "      <td>25.0</td>\n",
       "      <td>15.512</td>\n",
       "      <td>1.657890</td>\n",
       "      <td>12.4</td>\n",
       "      <td>14.5</td>\n",
       "      <td>15.5</td>\n",
       "      <td>16.0</td>\n",
       "      <td>19.1</td>\n",
       "    </tr>\n",
       "    <tr>\n",
       "      <th>0세-18세</th>\n",
       "      <td>25.0</td>\n",
       "      <td>54824.080</td>\n",
       "      <td>23306.596055</td>\n",
       "      <td>13494.0</td>\n",
       "      <td>41516.0</td>\n",
       "      <td>50933.0</td>\n",
       "      <td>66910.0</td>\n",
       "      <td>107298.0</td>\n",
       "    </tr>\n",
       "    <tr>\n",
       "      <th>0세-18세비율</th>\n",
       "      <td>25.0</td>\n",
       "      <td>13.700</td>\n",
       "      <td>1.953842</td>\n",
       "      <td>10.2</td>\n",
       "      <td>12.4</td>\n",
       "      <td>13.4</td>\n",
       "      <td>14.6</td>\n",
       "      <td>17.8</td>\n",
       "    </tr>\n",
       "    <tr>\n",
       "      <th>학령인구</th>\n",
       "      <td>25.0</td>\n",
       "      <td>53608.520</td>\n",
       "      <td>22776.493652</td>\n",
       "      <td>12831.0</td>\n",
       "      <td>41049.0</td>\n",
       "      <td>49257.0</td>\n",
       "      <td>65623.0</td>\n",
       "      <td>100433.0</td>\n",
       "    </tr>\n",
       "    <tr>\n",
       "      <th>학령인구비율</th>\n",
       "      <td>25.0</td>\n",
       "      <td>13.424</td>\n",
       "      <td>1.982061</td>\n",
       "      <td>10.2</td>\n",
       "      <td>12.3</td>\n",
       "      <td>13.1</td>\n",
       "      <td>14.3</td>\n",
       "      <td>17.7</td>\n",
       "    </tr>\n",
       "  </tbody>\n",
       "</table>\n",
       "</div>"
      ],
      "text/plain": [
       "          count        mean            std       min       25%       50%  \\\n",
       "총인구        25.0  389164.280  129693.890460  126171.0  313954.0  395963.0   \n",
       "9세-24세     25.0   61433.600   23930.437294   15670.0   48998.0   58020.0   \n",
       "9세-24세비율   25.0      15.512       1.657890      12.4      14.5      15.5   \n",
       "0세-18세     25.0   54824.080   23306.596055   13494.0   41516.0   50933.0   \n",
       "0세-18세비율   25.0      13.700       1.953842      10.2      12.4      13.4   \n",
       "학령인구       25.0   53608.520   22776.493652   12831.0   41049.0   49257.0   \n",
       "학령인구비율     25.0      13.424       1.982061      10.2      12.3      13.1   \n",
       "\n",
       "               75%       max  \n",
       "총인구       458165.0  675961.0  \n",
       "9세-24세     74775.0  109333.0  \n",
       "9세-24세비율      16.0      19.1  \n",
       "0세-18세     66910.0  107298.0  \n",
       "0세-18세비율      14.6      17.8  \n",
       "학령인구       65623.0  100433.0  \n",
       "학령인구비율        14.3      17.7  "
      ]
     },
     "execution_count": 34,
     "metadata": {},
     "output_type": "execute_result"
    }
   ],
   "source": [
    "df_1.describe().T"
   ]
  },
  {
   "cell_type": "code",
   "execution_count": 35,
   "metadata": {},
   "outputs": [
    {
     "data": {
      "text/html": [
       "<div>\n",
       "<style scoped>\n",
       "    .dataframe tbody tr th:only-of-type {\n",
       "        vertical-align: middle;\n",
       "    }\n",
       "\n",
       "    .dataframe tbody tr th {\n",
       "        vertical-align: top;\n",
       "    }\n",
       "\n",
       "    .dataframe thead th {\n",
       "        text-align: right;\n",
       "    }\n",
       "</style>\n",
       "<table border=\"1\" class=\"dataframe\">\n",
       "  <thead>\n",
       "    <tr style=\"text-align: right;\">\n",
       "      <th></th>\n",
       "      <th>count</th>\n",
       "      <th>mean</th>\n",
       "      <th>std</th>\n",
       "      <th>min</th>\n",
       "      <th>25%</th>\n",
       "      <th>50%</th>\n",
       "      <th>75%</th>\n",
       "      <th>max</th>\n",
       "    </tr>\n",
       "  </thead>\n",
       "  <tbody>\n",
       "    <tr>\n",
       "      <th>총인구</th>\n",
       "      <td>25.0</td>\n",
       "      <td>389164.28</td>\n",
       "      <td>129693.890460</td>\n",
       "      <td>126171.0</td>\n",
       "      <td>313954.0</td>\n",
       "      <td>395963.0</td>\n",
       "      <td>458165.0</td>\n",
       "      <td>675961.0</td>\n",
       "    </tr>\n",
       "    <tr>\n",
       "      <th>9세-24세</th>\n",
       "      <td>25.0</td>\n",
       "      <td>61433.60</td>\n",
       "      <td>23930.437294</td>\n",
       "      <td>15670.0</td>\n",
       "      <td>48998.0</td>\n",
       "      <td>58020.0</td>\n",
       "      <td>74775.0</td>\n",
       "      <td>109333.0</td>\n",
       "    </tr>\n",
       "    <tr>\n",
       "      <th>0세-18세</th>\n",
       "      <td>25.0</td>\n",
       "      <td>54824.08</td>\n",
       "      <td>23306.596055</td>\n",
       "      <td>13494.0</td>\n",
       "      <td>41516.0</td>\n",
       "      <td>50933.0</td>\n",
       "      <td>66910.0</td>\n",
       "      <td>107298.0</td>\n",
       "    </tr>\n",
       "    <tr>\n",
       "      <th>학령인구</th>\n",
       "      <td>25.0</td>\n",
       "      <td>53608.52</td>\n",
       "      <td>22776.493652</td>\n",
       "      <td>12831.0</td>\n",
       "      <td>41049.0</td>\n",
       "      <td>49257.0</td>\n",
       "      <td>65623.0</td>\n",
       "      <td>100433.0</td>\n",
       "    </tr>\n",
       "  </tbody>\n",
       "</table>\n",
       "</div>"
      ],
      "text/plain": [
       "        count       mean            std       min       25%       50%  \\\n",
       "총인구      25.0  389164.28  129693.890460  126171.0  313954.0  395963.0   \n",
       "9세-24세   25.0   61433.60   23930.437294   15670.0   48998.0   58020.0   \n",
       "0세-18세   25.0   54824.08   23306.596055   13494.0   41516.0   50933.0   \n",
       "학령인구     25.0   53608.52   22776.493652   12831.0   41049.0   49257.0   \n",
       "\n",
       "             75%       max  \n",
       "총인구     458165.0  675961.0  \n",
       "9세-24세   74775.0  109333.0  \n",
       "0세-18세   66910.0  107298.0  \n",
       "학령인구     65623.0  100433.0  "
      ]
     },
     "execution_count": 35,
     "metadata": {},
     "output_type": "execute_result"
    }
   ],
   "source": [
    "df_1.select_dtypes(include=['int']).describe().transpose()"
   ]
  },
  {
   "cell_type": "code",
   "execution_count": 36,
   "metadata": {},
   "outputs": [
    {
     "data": {
      "text/html": [
       "<div>\n",
       "<style scoped>\n",
       "    .dataframe tbody tr th:only-of-type {\n",
       "        vertical-align: middle;\n",
       "    }\n",
       "\n",
       "    .dataframe tbody tr th {\n",
       "        vertical-align: top;\n",
       "    }\n",
       "\n",
       "    .dataframe thead th {\n",
       "        text-align: right;\n",
       "    }\n",
       "</style>\n",
       "<table border=\"1\" class=\"dataframe\">\n",
       "  <thead>\n",
       "    <tr style=\"text-align: right;\">\n",
       "      <th></th>\n",
       "      <th>count</th>\n",
       "      <th>mean</th>\n",
       "      <th>std</th>\n",
       "      <th>min</th>\n",
       "      <th>25%</th>\n",
       "      <th>50%</th>\n",
       "      <th>75%</th>\n",
       "      <th>max</th>\n",
       "    </tr>\n",
       "  </thead>\n",
       "  <tbody>\n",
       "    <tr>\n",
       "      <th>9세-24세비율</th>\n",
       "      <td>25.0</td>\n",
       "      <td>15.512</td>\n",
       "      <td>1.657890</td>\n",
       "      <td>12.4</td>\n",
       "      <td>14.5</td>\n",
       "      <td>15.5</td>\n",
       "      <td>16.0</td>\n",
       "      <td>19.1</td>\n",
       "    </tr>\n",
       "    <tr>\n",
       "      <th>0세-18세비율</th>\n",
       "      <td>25.0</td>\n",
       "      <td>13.700</td>\n",
       "      <td>1.953842</td>\n",
       "      <td>10.2</td>\n",
       "      <td>12.4</td>\n",
       "      <td>13.4</td>\n",
       "      <td>14.6</td>\n",
       "      <td>17.8</td>\n",
       "    </tr>\n",
       "    <tr>\n",
       "      <th>학령인구비율</th>\n",
       "      <td>25.0</td>\n",
       "      <td>13.424</td>\n",
       "      <td>1.982061</td>\n",
       "      <td>10.2</td>\n",
       "      <td>12.3</td>\n",
       "      <td>13.1</td>\n",
       "      <td>14.3</td>\n",
       "      <td>17.7</td>\n",
       "    </tr>\n",
       "  </tbody>\n",
       "</table>\n",
       "</div>"
      ],
      "text/plain": [
       "          count    mean       std   min   25%   50%   75%   max\n",
       "9세-24세비율   25.0  15.512  1.657890  12.4  14.5  15.5  16.0  19.1\n",
       "0세-18세비율   25.0  13.700  1.953842  10.2  12.4  13.4  14.6  17.8\n",
       "학령인구비율     25.0  13.424  1.982061  10.2  12.3  13.1  14.3  17.7"
      ]
     },
     "execution_count": 36,
     "metadata": {},
     "output_type": "execute_result"
    }
   ],
   "source": [
    "df_1.select_dtypes(include=['float']).describe().transpose()"
   ]
  },
  {
   "cell_type": "code",
   "execution_count": 37,
   "metadata": {},
   "outputs": [],
   "source": [
    "import matplotlib.pyplot as plt\n",
    "%matplotlib inline"
   ]
  },
  {
   "cell_type": "code",
   "execution_count": 38,
   "metadata": {},
   "outputs": [
    {
     "data": {
      "image/png": "[encoded data removed]",
      "text/plain": [
       "<Figure size 432x288 with 1 Axes>"
      ]
     },
     "metadata": {
      "needs_background": "light"
     },
     "output_type": "display_data"
    }
   ],
   "source": [
    "df_1['0세-18세비율'].plot(kind='bar')\n",
    "plt.show()"
   ]
  },
  {
   "cell_type": "code",
   "execution_count": 39,
   "metadata": {},
   "outputs": [
    {
     "data": {
      "image/png": "[encoded data removed]",
      "text/plain": [
       "<Figure size 432x288 with 1 Axes>"
      ]
     },
     "metadata": {
      "needs_background": "light"
     },
     "output_type": "display_data"
    }
   ],
   "source": [
    "df_1['9세-24세비율'].plot(kind='bar')\n",
    "plt.show()"
   ]
  },
  {
   "cell_type": "code",
   "execution_count": null,
   "metadata": {},
   "outputs": [],
   "source": []
  }
 ],
 "metadata": {
  "kernelspec": {
   "display_name": "Python 3",
   "language": "python",
   "name": "python3"
  },
  "language_info": {
   "codemirror_mode": {
    "name": "ipython",
    "version": 3
   },
   "file_extension": ".py",
   "mimetype": "text/x-python",
   "name": "python",
   "nbconvert_exporter": "python",
   "pygments_lexer": "ipython3",
   "version": "3.7.7"
  }
 },
 "nbformat": 4,
 "nbformat_minor": 4
}
