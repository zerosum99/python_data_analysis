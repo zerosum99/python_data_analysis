{
 "cells": [
  {
   "cell_type": "markdown",
   "metadata": {},
   "source": [
    "#  Loan Data for Dummy Bank ·\n",
    "\n",
    "https://www.kaggle.com/pjourgensen/default-analysis"
   ]
  },
  {
   "cell_type": "code",
   "execution_count": 1,
   "metadata": {},
   "outputs": [
    {
     "name": "stderr",
     "output_type": "stream",
     "text": [
      "/Users/dahlmoon/anaconda3/lib/python3.7/site-packages/statsmodels/tools/_testing.py:19: FutureWarning: pandas.util.testing is deprecated. Use the functions in the public API at pandas.testing instead.\n",
      "  import pandas.util.testing as tm\n",
      "Using TensorFlow backend.\n"
     ]
    }
   ],
   "source": [
    "import pandas as pd\n",
    "import numpy as np\n",
    "\n",
    "import seaborn as sns\n",
    "import matplotlib.pyplot as plt\n",
    "plt.style.use('ggplot')\n",
    "%matplotlib inline\n",
    "\n",
    "from sklearn.preprocessing import MinMaxScaler\n",
    "from sklearn.model_selection import train_test_split\n",
    "from sklearn.ensemble import AdaBoostClassifier, RandomForestClassifier\n",
    "from sklearn.tree import DecisionTreeClassifier\n",
    "from sklearn.metrics import confusion_matrix, precision_score, recall_score, accuracy_score, f1_score\n",
    "\n",
    "from imblearn.over_sampling import SMOTE\n",
    "\n",
    "import tensorflow as tf"
   ]
  },
  {
   "cell_type": "code",
   "execution_count": null,
   "metadata": {},
   "outputs": [],
   "source": []
  },
  {
   "cell_type": "code",
   "execution_count": null,
   "metadata": {},
   "outputs": [],
   "source": []
  },
  {
   "cell_type": "markdown",
   "metadata": {},
   "source": [
    "## 데이터 분석\n",
    "\n",
    "https://www.kaggle.com/pjourgensen/default-analysis"
   ]
  },
  {
   "cell_type": "markdown",
   "metadata": {},
   "source": [
    "Data Description\n",
    "\n",
    "- LoanStatNew Description\n",
    "\n",
    "- addr_state The state provided by the borrower in the loan application\n",
    "\n",
    "- annual_inc The self-reported annual income provided by the borrower during registration.\n",
    "\n",
    "- annualincjoint The combined self-reported annual income provided by the co-borrowers during registration\n",
    "\n",
    "- application_type Indicates whether the loan is an individual application or a joint application with two co-borrowers\n",
    "\n",
    "- collectionrecoveryfee post charge off collection fee\n",
    "\n",
    "- collections12mthsexmed Number of collections in 12 months excluding medical collections\n",
    "\n",
    "- delinq_2yrs The number of 30+ days past-due incidences of delinquency in the borrower's credit file for the past 2 years\n",
    "\n",
    "- desc Loan description provided by the borrower\n",
    "\n",
    "- dti A ratio calculated using the borrower’s total monthly debt payments on the total debt obligations, - - - excluding mortgage and the requested LC loan, divided by the borrower’s self-reported monthly income.\n",
    "\n",
    "- dti_joint A ratio calculated using the co-borrowers' total monthly payments on the total debt obligations, - excluding mortgages and the requested LC loan, divided by the co-borrowers' combined self-reported monthly income\n",
    "\n",
    "- earliestcrline The month the borrower's earliest reported credit line was opened\n",
    "\n",
    "- emp_length Employment length in years. Possible values are between 0 and 10 where 0 means less than one year and 10 means ten or more years.\n",
    "\n",
    "- emp_title The job title supplied by the Borrower when applying for the loan.*\n",
    "\n",
    "- ficorangehigh The upper boundary range the borrower’s FICO at loan origination belongs to.\n",
    "\n",
    "- ficorangelow The lower boundary range the borrower’s FICO at loan origination belongs to.\n",
    "\n",
    "- funded_amnt The total amount committed to that loan at that point in time.\n",
    "\n",
    "- fundedamntinv The total amount committed by investors for that loan at that point in time.\n",
    "\n",
    "- grade LC assigned loan grade\n",
    "\n",
    "- home_ownership The home ownership status provided by the borrower during registration. Our values are: RENT, OWN, MORTGAGE, OTHER."
   ]
  },
  {
   "cell_type": "code",
   "execution_count": 2,
   "metadata": {},
   "outputs": [],
   "source": [
    "import pandas as pd"
   ]
  },
  {
   "cell_type": "code",
   "execution_count": 3,
   "metadata": {},
   "outputs": [],
   "source": [
    "df_1 = pd.read_csv('./data/loan_final313_1.csv',parse_dates=['issue_d'])"
   ]
  },
  {
   "cell_type": "code",
   "execution_count": 4,
   "metadata": {},
   "outputs": [],
   "source": [
    "df_2 = pd.read_csv('./data/loan_final313_2.csv', parse_dates=['issue_d'])"
   ]
  },
  {
   "cell_type": "code",
   "execution_count": 5,
   "metadata": {},
   "outputs": [],
   "source": [
    "df = pd.concat([df_1, df_2], axis=0)"
   ]
  },
  {
   "cell_type": "code",
   "execution_count": 6,
   "metadata": {},
   "outputs": [
    {
     "data": {
      "text/plain": [
       "(887379, 31)"
      ]
     },
     "execution_count": 6,
     "metadata": {},
     "output_type": "execute_result"
    }
   ],
   "source": [
    "df.shape"
   ]
  },
  {
   "cell_type": "code",
   "execution_count": 7,
   "metadata": {},
   "outputs": [
    {
     "data": {
      "text/html": [
       "<div>\n",
       "<style scoped>\n",
       "    .dataframe tbody tr th:only-of-type {\n",
       "        vertical-align: middle;\n",
       "    }\n",
       "\n",
       "    .dataframe tbody tr th {\n",
       "        vertical-align: top;\n",
       "    }\n",
       "\n",
       "    .dataframe thead th {\n",
       "        text-align: right;\n",
       "    }\n",
       "</style>\n",
       "<table border=\"1\" class=\"dataframe\">\n",
       "  <thead>\n",
       "    <tr style=\"text-align: right;\">\n",
       "      <th></th>\n",
       "      <th>Unnamed: 0</th>\n",
       "      <th>id</th>\n",
       "      <th>year</th>\n",
       "      <th>issue_d</th>\n",
       "      <th>final_d</th>\n",
       "      <th>emp_length_int</th>\n",
       "      <th>home_ownership</th>\n",
       "      <th>home_ownership_cat</th>\n",
       "      <th>income_category</th>\n",
       "      <th>annual_inc</th>\n",
       "      <th>...</th>\n",
       "      <th>loan_condition_cat</th>\n",
       "      <th>interest_rate</th>\n",
       "      <th>grade</th>\n",
       "      <th>grade_cat</th>\n",
       "      <th>dti</th>\n",
       "      <th>total_pymnt</th>\n",
       "      <th>total_rec_prncp</th>\n",
       "      <th>recoveries</th>\n",
       "      <th>installment</th>\n",
       "      <th>region</th>\n",
       "    </tr>\n",
       "  </thead>\n",
       "  <tbody>\n",
       "    <tr>\n",
       "      <th>0</th>\n",
       "      <td>691823</td>\n",
       "      <td>55058145</td>\n",
       "      <td>2015</td>\n",
       "      <td>2015-01-07</td>\n",
       "      <td>1012016</td>\n",
       "      <td>10.0</td>\n",
       "      <td>OWN</td>\n",
       "      <td>2</td>\n",
       "      <td>Low</td>\n",
       "      <td>32000</td>\n",
       "      <td>...</td>\n",
       "      <td>0</td>\n",
       "      <td>13.99</td>\n",
       "      <td>C</td>\n",
       "      <td>3</td>\n",
       "      <td>15.34</td>\n",
       "      <td>2252.07</td>\n",
       "      <td>1557.79</td>\n",
       "      <td>0.0</td>\n",
       "      <td>382.74</td>\n",
       "      <td>leinster</td>\n",
       "    </tr>\n",
       "    <tr>\n",
       "      <th>1</th>\n",
       "      <td>360841</td>\n",
       "      <td>20007517</td>\n",
       "      <td>2014</td>\n",
       "      <td>2014-01-07</td>\n",
       "      <td>1042015</td>\n",
       "      <td>4.0</td>\n",
       "      <td>MORTGAGE</td>\n",
       "      <td>3</td>\n",
       "      <td>Low</td>\n",
       "      <td>93500</td>\n",
       "      <td>...</td>\n",
       "      <td>0</td>\n",
       "      <td>11.67</td>\n",
       "      <td>B</td>\n",
       "      <td>2</td>\n",
       "      <td>24.17</td>\n",
       "      <td>30343.63</td>\n",
       "      <td>28000.00</td>\n",
       "      <td>0.0</td>\n",
       "      <td>925.60</td>\n",
       "      <td>leinster</td>\n",
       "    </tr>\n",
       "    <tr>\n",
       "      <th>2</th>\n",
       "      <td>384243</td>\n",
       "      <td>17052611</td>\n",
       "      <td>2014</td>\n",
       "      <td>2014-01-06</td>\n",
       "      <td>1012016</td>\n",
       "      <td>7.0</td>\n",
       "      <td>OWN</td>\n",
       "      <td>2</td>\n",
       "      <td>Low</td>\n",
       "      <td>70000</td>\n",
       "      <td>...</td>\n",
       "      <td>0</td>\n",
       "      <td>17.57</td>\n",
       "      <td>D</td>\n",
       "      <td>4</td>\n",
       "      <td>27.14</td>\n",
       "      <td>12034.79</td>\n",
       "      <td>5752.69</td>\n",
       "      <td>0.0</td>\n",
       "      <td>633.41</td>\n",
       "      <td>ulster</td>\n",
       "    </tr>\n",
       "    <tr>\n",
       "      <th>3</th>\n",
       "      <td>856101</td>\n",
       "      <td>39957544</td>\n",
       "      <td>2015</td>\n",
       "      <td>2015-01-02</td>\n",
       "      <td>1012016</td>\n",
       "      <td>2.0</td>\n",
       "      <td>RENT</td>\n",
       "      <td>1</td>\n",
       "      <td>Low</td>\n",
       "      <td>96000</td>\n",
       "      <td>...</td>\n",
       "      <td>0</td>\n",
       "      <td>11.44</td>\n",
       "      <td>B</td>\n",
       "      <td>2</td>\n",
       "      <td>14.55</td>\n",
       "      <td>4819.04</td>\n",
       "      <td>2868.56</td>\n",
       "      <td>0.0</td>\n",
       "      <td>439.25</td>\n",
       "      <td>Northern-Irl</td>\n",
       "    </tr>\n",
       "    <tr>\n",
       "      <th>4</th>\n",
       "      <td>879201</td>\n",
       "      <td>38506066</td>\n",
       "      <td>2015</td>\n",
       "      <td>2015-01-01</td>\n",
       "      <td>1122015</td>\n",
       "      <td>4.0</td>\n",
       "      <td>RENT</td>\n",
       "      <td>1</td>\n",
       "      <td>Low</td>\n",
       "      <td>75000</td>\n",
       "      <td>...</td>\n",
       "      <td>0</td>\n",
       "      <td>15.99</td>\n",
       "      <td>D</td>\n",
       "      <td>4</td>\n",
       "      <td>15.46</td>\n",
       "      <td>12752.40</td>\n",
       "      <td>11200.00</td>\n",
       "      <td>0.0</td>\n",
       "      <td>393.71</td>\n",
       "      <td>ulster</td>\n",
       "    </tr>\n",
       "  </tbody>\n",
       "</table>\n",
       "<p>5 rows × 31 columns</p>\n",
       "</div>"
      ],
      "text/plain": [
       "   Unnamed: 0        id  year    issue_d  final_d  emp_length_int  \\\n",
       "0      691823  55058145  2015 2015-01-07  1012016            10.0   \n",
       "1      360841  20007517  2014 2014-01-07  1042015             4.0   \n",
       "2      384243  17052611  2014 2014-01-06  1012016             7.0   \n",
       "3      856101  39957544  2015 2015-01-02  1012016             2.0   \n",
       "4      879201  38506066  2015 2015-01-01  1122015             4.0   \n",
       "\n",
       "  home_ownership  home_ownership_cat income_category  annual_inc  ...  \\\n",
       "0            OWN                   2             Low       32000  ...   \n",
       "1       MORTGAGE                   3             Low       93500  ...   \n",
       "2            OWN                   2             Low       70000  ...   \n",
       "3           RENT                   1             Low       96000  ...   \n",
       "4           RENT                   1             Low       75000  ...   \n",
       "\n",
       "   loan_condition_cat  interest_rate grade  grade_cat    dti  total_pymnt  \\\n",
       "0                   0          13.99     C          3  15.34      2252.07   \n",
       "1                   0          11.67     B          2  24.17     30343.63   \n",
       "2                   0          17.57     D          4  27.14     12034.79   \n",
       "3                   0          11.44     B          2  14.55      4819.04   \n",
       "4                   0          15.99     D          4  15.46     12752.40   \n",
       "\n",
       "  total_rec_prncp  recoveries installment        region  \n",
       "0         1557.79         0.0      382.74      leinster  \n",
       "1        28000.00         0.0      925.60      leinster  \n",
       "2         5752.69         0.0      633.41        ulster  \n",
       "3         2868.56         0.0      439.25  Northern-Irl  \n",
       "4        11200.00         0.0      393.71        ulster  \n",
       "\n",
       "[5 rows x 31 columns]"
      ]
     },
     "execution_count": 7,
     "metadata": {},
     "output_type": "execute_result"
    }
   ],
   "source": [
    "df.head()"
   ]
  },
  {
   "cell_type": "code",
   "execution_count": 8,
   "metadata": {},
   "outputs": [
    {
     "name": "stdout",
     "output_type": "stream",
     "text": [
      "<class 'pandas.core.frame.DataFrame'>\n",
      "Int64Index: 887379 entries, 0 to 443689\n",
      "Data columns (total 31 columns):\n",
      " #   Column                Non-Null Count   Dtype         \n",
      "---  ------                --------------   -----         \n",
      " 0   Unnamed: 0            887379 non-null  int64         \n",
      " 1   id                    887379 non-null  int64         \n",
      " 2   year                  887379 non-null  int64         \n",
      " 3   issue_d               887379 non-null  datetime64[ns]\n",
      " 4   final_d               887379 non-null  int64         \n",
      " 5   emp_length_int        887379 non-null  float64       \n",
      " 6   home_ownership        887379 non-null  object        \n",
      " 7   home_ownership_cat    887379 non-null  int64         \n",
      " 8   income_category       887379 non-null  object        \n",
      " 9   annual_inc            887379 non-null  int64         \n",
      " 10  income_cat            887379 non-null  int64         \n",
      " 11  loan_amount           887379 non-null  int64         \n",
      " 12  term                  887379 non-null  object        \n",
      " 13  term_cat              887379 non-null  int64         \n",
      " 14  application_type      887379 non-null  object        \n",
      " 15  application_type_cat  887379 non-null  int64         \n",
      " 16  purpose               887379 non-null  object        \n",
      " 17  purpose_cat           887379 non-null  int64         \n",
      " 18  interest_payments     887379 non-null  object        \n",
      " 19  interest_payment_cat  887379 non-null  int64         \n",
      " 20  loan_condition        887379 non-null  object        \n",
      " 21  loan_condition_cat    887379 non-null  int64         \n",
      " 22  interest_rate         887379 non-null  float64       \n",
      " 23  grade                 887379 non-null  object        \n",
      " 24  grade_cat             887379 non-null  int64         \n",
      " 25  dti                   887379 non-null  float64       \n",
      " 26  total_pymnt           887379 non-null  float64       \n",
      " 27  total_rec_prncp       887379 non-null  float64       \n",
      " 28  recoveries            887379 non-null  float64       \n",
      " 29  installment           887379 non-null  float64       \n",
      " 30  region                887379 non-null  object        \n",
      "dtypes: datetime64[ns](1), float64(7), int64(14), object(9)\n",
      "memory usage: 216.6+ MB\n"
     ]
    }
   ],
   "source": [
    "df.info()"
   ]
  },
  {
   "cell_type": "code",
   "execution_count": 9,
   "metadata": {},
   "outputs": [
    {
     "data": {
      "text/plain": [
       "Unnamed: 0              0\n",
       "id                      0\n",
       "year                    0\n",
       "issue_d                 0\n",
       "final_d                 0\n",
       "emp_length_int          0\n",
       "home_ownership          0\n",
       "home_ownership_cat      0\n",
       "income_category         0\n",
       "annual_inc              0\n",
       "income_cat              0\n",
       "loan_amount             0\n",
       "term                    0\n",
       "term_cat                0\n",
       "application_type        0\n",
       "application_type_cat    0\n",
       "purpose                 0\n",
       "purpose_cat             0\n",
       "interest_payments       0\n",
       "interest_payment_cat    0\n",
       "loan_condition          0\n",
       "loan_condition_cat      0\n",
       "interest_rate           0\n",
       "grade                   0\n",
       "grade_cat               0\n",
       "dti                     0\n",
       "total_pymnt             0\n",
       "total_rec_prncp         0\n",
       "recoveries              0\n",
       "installment             0\n",
       "region                  0\n",
       "dtype: int64"
      ]
     },
     "execution_count": 9,
     "metadata": {},
     "output_type": "execute_result"
    }
   ],
   "source": [
    "df.isnull().sum()"
   ]
  },
  {
   "cell_type": "code",
   "execution_count": 10,
   "metadata": {},
   "outputs": [
    {
     "data": {
      "text/plain": [
       "Index(['Unnamed: 0', 'id', 'year', 'issue_d', 'final_d', 'emp_length_int',\n",
       "       'home_ownership', 'home_ownership_cat', 'income_category', 'annual_inc',\n",
       "       'income_cat', 'loan_amount', 'term', 'term_cat', 'application_type',\n",
       "       'application_type_cat', 'purpose', 'purpose_cat', 'interest_payments',\n",
       "       'interest_payment_cat', 'loan_condition', 'loan_condition_cat',\n",
       "       'interest_rate', 'grade', 'grade_cat', 'dti', 'total_pymnt',\n",
       "       'total_rec_prncp', 'recoveries', 'installment', 'region'],\n",
       "      dtype='object')"
      ]
     },
     "execution_count": 10,
     "metadata": {},
     "output_type": "execute_result"
    }
   ],
   "source": [
    "df.columns"
   ]
  },
  {
   "cell_type": "code",
   "execution_count": null,
   "metadata": {},
   "outputs": [],
   "source": []
  },
  {
   "cell_type": "code",
   "execution_count": 11,
   "metadata": {},
   "outputs": [
    {
     "data": {
      "text/plain": [
       "<matplotlib.axes._subplots.AxesSubplot at 0x1437b2f90>"
      ]
     },
     "execution_count": 11,
     "metadata": {},
     "output_type": "execute_result"
    },
    {
     "data": {
      "image/png": "[encoded data removed]",
      "text/plain": [
       "<Figure size 1152x576 with 2 Axes>"
      ]
     },
     "metadata": {
      "needs_background": "light"
     },
     "output_type": "display_data"
    }
   ],
   "source": [
    "plt.figure(figsize=(16,8))\n",
    "sns.heatmap(df.corr(), cmap = 'coolwarm')"
   ]
  },
  {
   "cell_type": "markdown",
   "metadata": {},
   "source": [
    "## 정답 칼럼 생성"
   ]
  },
  {
   "cell_type": "code",
   "execution_count": 12,
   "metadata": {},
   "outputs": [],
   "source": [
    "def defaulted(x):\n",
    "    if x == 'Good Loan':\n",
    "        return 0\n",
    "    else:\n",
    "        return 1"
   ]
  },
  {
   "cell_type": "code",
   "execution_count": 13,
   "metadata": {},
   "outputs": [],
   "source": [
    "df['default'] = df['loan_condition'].apply(lambda x: defaulted(x))"
   ]
  },
  {
   "cell_type": "code",
   "execution_count": 14,
   "metadata": {},
   "outputs": [
    {
     "data": {
      "text/plain": [
       "0    819950\n",
       "1     67429\n",
       "Name: default, dtype: int64"
      ]
     },
     "execution_count": 14,
     "metadata": {},
     "output_type": "execute_result"
    }
   ],
   "source": [
    "df['default'].value_counts()"
   ]
  },
  {
   "cell_type": "markdown",
   "metadata": {},
   "source": [
    "## Train Test Split"
   ]
  },
  {
   "cell_type": "code",
   "execution_count": 15,
   "metadata": {},
   "outputs": [],
   "source": [
    "X = df.drop(['default', 'id', 'year','loan_condition', 'issue_d', 'home_ownership', 'income_category', \n",
    "              'term', 'application_type', 'purpose', 'interest_payments', 'loan_condition','loan_condition_cat', 'grade', 'region'],axis=1)\n",
    "y = df['default']\n",
    "X_train, X_test, y_train, y_test = train_test_split(X, y, test_size=0.3, random_state=100)"
   ]
  },
  {
   "cell_type": "code",
   "execution_count": 16,
   "metadata": {},
   "outputs": [],
   "source": [
    "rf_base = RandomForestClassifier(n_estimators=100)"
   ]
  },
  {
   "cell_type": "code",
   "execution_count": 17,
   "metadata": {},
   "outputs": [],
   "source": [
    "ada_base = AdaBoostClassifier(base_estimator=DecisionTreeClassifier(),n_estimators=100)"
   ]
  },
  {
   "cell_type": "code",
   "execution_count": 18,
   "metadata": {},
   "outputs": [
    {
     "data": {
      "text/plain": [
       "RandomForestClassifier(bootstrap=True, ccp_alpha=0.0, class_weight=None,\n",
       "                       criterion='gini', max_depth=None, max_features='auto',\n",
       "                       max_leaf_nodes=None, max_samples=None,\n",
       "                       min_impurity_decrease=0.0, min_impurity_split=None,\n",
       "                       min_samples_leaf=1, min_samples_split=2,\n",
       "                       min_weight_fraction_leaf=0.0, n_estimators=100,\n",
       "                       n_jobs=None, oob_score=False, random_state=None,\n",
       "                       verbose=0, warm_start=False)"
      ]
     },
     "execution_count": 18,
     "metadata": {},
     "output_type": "execute_result"
    }
   ],
   "source": [
    "rf_base.fit(X_train,y_train)"
   ]
  },
  {
   "cell_type": "code",
   "execution_count": 19,
   "metadata": {},
   "outputs": [
    {
     "data": {
      "text/plain": [
       "AdaBoostClassifier(algorithm='SAMME.R',\n",
       "                   base_estimator=DecisionTreeClassifier(ccp_alpha=0.0,\n",
       "                                                         class_weight=None,\n",
       "                                                         criterion='gini',\n",
       "                                                         max_depth=None,\n",
       "                                                         max_features=None,\n",
       "                                                         max_leaf_nodes=None,\n",
       "                                                         min_impurity_decrease=0.0,\n",
       "                                                         min_impurity_split=None,\n",
       "                                                         min_samples_leaf=1,\n",
       "                                                         min_samples_split=2,\n",
       "                                                         min_weight_fraction_leaf=0.0,\n",
       "                                                         presort='deprecated',\n",
       "                                                         random_state=None,\n",
       "                                                         splitter='best'),\n",
       "                   learning_rate=1.0, n_estimators=100, random_state=None)"
      ]
     },
     "execution_count": 19,
     "metadata": {},
     "output_type": "execute_result"
    }
   ],
   "source": [
    "ada_base.fit(X_train,y_train)"
   ]
  },
  {
   "cell_type": "code",
   "execution_count": null,
   "metadata": {},
   "outputs": [],
   "source": []
  },
  {
   "cell_type": "code",
   "execution_count": 20,
   "metadata": {},
   "outputs": [],
   "source": [
    "rf_base_pred = rf_base.predict(X_test)"
   ]
  },
  {
   "cell_type": "code",
   "execution_count": 21,
   "metadata": {},
   "outputs": [],
   "source": [
    "ada_base_pred = ada_base.predict(X_test)"
   ]
  },
  {
   "cell_type": "code",
   "execution_count": 22,
   "metadata": {},
   "outputs": [
    {
     "name": "stdout",
     "output_type": "stream",
     "text": [
      "[[245812     17]\n",
      " [  3586  16799]]\n"
     ]
    }
   ],
   "source": [
    "print(confusion_matrix(y_test, rf_base_pred))"
   ]
  },
  {
   "cell_type": "code",
   "execution_count": 23,
   "metadata": {},
   "outputs": [
    {
     "name": "stdout",
     "output_type": "stream",
     "text": [
      "[[242681   3148]\n",
      " [  2858  17527]]\n"
     ]
    }
   ],
   "source": [
    "print(confusion_matrix(y_test, ada_base_pred))"
   ]
  },
  {
   "cell_type": "code",
   "execution_count": 24,
   "metadata": {},
   "outputs": [
    {
     "name": "stdout",
     "output_type": "stream",
     "text": [
      "0.9864657756541729\n"
     ]
    }
   ],
   "source": [
    "print(accuracy_score(y_test,rf_base_pred))"
   ]
  },
  {
   "cell_type": "code",
   "execution_count": 25,
   "metadata": {},
   "outputs": [
    {
     "name": "stdout",
     "output_type": "stream",
     "text": [
      "0.9774392030471726\n"
     ]
    }
   ],
   "source": [
    "print(accuracy_score(y_test,ada_base_pred))"
   ]
  },
  {
   "cell_type": "code",
   "execution_count": 26,
   "metadata": {},
   "outputs": [
    {
     "name": "stdout",
     "output_type": "stream",
     "text": [
      "0.8240863379936227\n"
     ]
    }
   ],
   "source": [
    "print(recall_score(y_test,rf_base_pred))"
   ]
  },
  {
   "cell_type": "code",
   "execution_count": 27,
   "metadata": {},
   "outputs": [
    {
     "name": "stdout",
     "output_type": "stream",
     "text": [
      "0.8597988717194015\n"
     ]
    }
   ],
   "source": [
    "print(recall_score(y_test,ada_base_pred))"
   ]
  },
  {
   "cell_type": "code",
   "execution_count": 28,
   "metadata": {},
   "outputs": [
    {
     "data": {
      "text/plain": [
       "0.9031477648450309"
      ]
     },
     "execution_count": 28,
     "metadata": {},
     "output_type": "execute_result"
    }
   ],
   "source": [
    "f1_score(y_test,rf_base_pred)"
   ]
  },
  {
   "cell_type": "code",
   "execution_count": 29,
   "metadata": {},
   "outputs": [
    {
     "data": {
      "text/plain": [
       "0.8537262542620555"
      ]
     },
     "execution_count": 29,
     "metadata": {},
     "output_type": "execute_result"
    }
   ],
   "source": [
    "f1_score(y_test,ada_base_pred)"
   ]
  },
  {
   "cell_type": "code",
   "execution_count": 30,
   "metadata": {},
   "outputs": [],
   "source": [
    "from xgboost import XGBClassifier"
   ]
  },
  {
   "cell_type": "code",
   "execution_count": 31,
   "metadata": {},
   "outputs": [],
   "source": [
    "xgb = XGBClassifier()"
   ]
  },
  {
   "cell_type": "code",
   "execution_count": 32,
   "metadata": {},
   "outputs": [
    {
     "data": {
      "text/plain": [
       "XGBClassifier(base_score=0.5, booster='gbtree', colsample_bylevel=1,\n",
       "              colsample_bytree=1, gamma=0, learning_rate=0.1, max_delta_step=0,\n",
       "              max_depth=3, min_child_weight=1, missing=None, n_estimators=100,\n",
       "              n_jobs=1, nthread=None, objective='binary:logistic',\n",
       "              random_state=0, reg_alpha=0, reg_lambda=1, scale_pos_weight=1,\n",
       "              seed=None, silent=True, subsample=1)"
      ]
     },
     "execution_count": 32,
     "metadata": {},
     "output_type": "execute_result"
    }
   ],
   "source": [
    "xgb.fit(X_train, y_train)"
   ]
  },
  {
   "cell_type": "code",
   "execution_count": 33,
   "metadata": {},
   "outputs": [],
   "source": [
    "xgb_pred = xgb.predict(X_test)"
   ]
  },
  {
   "cell_type": "code",
   "execution_count": 34,
   "metadata": {},
   "outputs": [
    {
     "data": {
      "text/plain": [
       "0.7632572970321315"
      ]
     },
     "execution_count": 34,
     "metadata": {},
     "output_type": "execute_result"
    }
   ],
   "source": [
    "recall_score(y_test,xgb_pred)"
   ]
  },
  {
   "cell_type": "code",
   "execution_count": 35,
   "metadata": {},
   "outputs": [
    {
     "data": {
      "text/plain": [
       "0.9998072227220152"
      ]
     },
     "execution_count": 35,
     "metadata": {},
     "output_type": "execute_result"
    }
   ],
   "source": [
    "precision_score(y_test,xgb_pred)"
   ]
  },
  {
   "cell_type": "code",
   "execution_count": null,
   "metadata": {},
   "outputs": [],
   "source": []
  },
  {
   "cell_type": "code",
   "execution_count": 36,
   "metadata": {},
   "outputs": [
    {
     "data": {
      "text/plain": [
       "array([[245826,      3],\n",
       "       [  4826,  15559]])"
      ]
     },
     "execution_count": 36,
     "metadata": {},
     "output_type": "execute_result"
    }
   ],
   "source": [
    "confusion_matrix(y_test, xgb_pred)"
   ]
  },
  {
   "cell_type": "code",
   "execution_count": null,
   "metadata": {},
   "outputs": [],
   "source": []
  },
  {
   "cell_type": "code",
   "execution_count": 37,
   "metadata": {},
   "outputs": [
    {
     "data": {
      "text/plain": [
       "0.8656633376916014"
      ]
     },
     "execution_count": 37,
     "metadata": {},
     "output_type": "execute_result"
    }
   ],
   "source": [
    "f1_score(y_test,xgb_pred)"
   ]
  },
  {
   "cell_type": "code",
   "execution_count": null,
   "metadata": {},
   "outputs": [],
   "source": []
  }
 ],
 "metadata": {
  "kernelspec": {
   "display_name": "Python 3",
   "language": "python",
   "name": "python3"
  },
  "language_info": {
   "codemirror_mode": {
    "name": "ipython",
    "version": 3
   },
   "file_extension": ".py",
   "mimetype": "text/x-python",
   "name": "python",
   "nbconvert_exporter": "python",
   "pygments_lexer": "ipython3",
   "version": "3.7.7"
  }
 },
 "nbformat": 4,
 "nbformat_minor": 4
}
